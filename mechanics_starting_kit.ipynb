{
 "cells": [
  {
   "cell_type": "markdown",
   "metadata": {},
   "source": [
    "<div style=\"text-align: left\">\n",
    "<img src=\"http://project.inria.fr/saclaycds/files/2017/02/logoUPSayPlusCDS_990.png\" width=\"800px\">\n",
    "</div>\n",
    "\n",
    "# [RAMP](https://www.ramp.studio/problems/mechanics) on Mechanics determination\n",
    "\n",
    "_Yetkin Yilmaz (LAL), Balazs Kegl (CDS, LAL)_"
   ]
  },
  {
   "cell_type": "markdown",
   "metadata": {},
   "source": [
    "The goal of this challenge is to find ways to simulate the theoretical model finding process in physics or similar sciences. A good example is the paradigm shift between the Ptolemy and Copernican models of the solar system.\n",
    "\n",
    "In the challenge we start by putting ourselves in Ptolemy's shoes, approach the same problem in imaginary systems in which the motion of the objects in the sky could have completely different underlying mechanics that we don't know of.\n",
    "\n",
    "\n"
   ]
  },
  {
   "cell_type": "markdown",
   "metadata": {},
   "source": [
    "<img src=\"http://ecuip.lib.uchicago.edu/multiwavelength-astronomy/images/gamma-ray/impact/ptolemy_cosmos.jpg\" alt=\"Drawing\" style=\"width: 700px;\"/>"
   ]
  },
  {
   "cell_type": "markdown",
   "metadata": {},
   "source": [
    "In the beginning, the task was simply to predict the future. Considering the early history of the birth of science, the capability of predicting the future was something that gave influential power to individuals; hence the investment of rulers to astrologers, and eventually to astronomers.\n",
    "\n",
    "Scientific method was invented through this effort, marked by the Copernican revolution, which significantly boosted the predictive power of the models. While Ptolemy had a model that was able to (with sufficient amount of parameters) explain what has been observed, Copernican model was able to predict what came next.\n",
    "\n",
    "In the terminology of ML, Ptolemy was able to achieve a good training score, but Copernicus was able to optimize training and test scores simultaneously. This observation led to the triumph of scientific method.\n",
    "\n",
    "Inspired by this, we first focus on the regression problem, and then discuss how this leads to the formula classification to help solve it better."
   ]
  },
  {
   "cell_type": "markdown",
   "metadata": {},
   "source": [
    "The challenge consists of two parts: Classification and Regression. If the two tasks are wished to be solved simultaneously, the FeatureExtractor element can be used. The workflow can be briefly sketched as:\n",
    "\n",
    "\n"
   ]
  },
  {
   "cell_type": "markdown",
   "metadata": {},
   "source": [
    "<img src=\"figures/workflow.png\" width=\"80%\"/>"
   ]
  },
  {
   "cell_type": "markdown",
   "metadata": {},
   "source": [
    "In this tutorial, we will discuss the workflow elements in reverse order: Regressor, Classifier, FeatureExtractor, in order to understand the motivations better. We consider the regression to be the absolute problem, and every step added before is a tool that eases the task of its successor.\n",
    "\n",
    "\n",
    "\n"
   ]
  },
  {
   "cell_type": "markdown",
   "metadata": {},
   "source": [
    "## Regression problem"
   ]
  },
  {
   "cell_type": "markdown",
   "metadata": {},
   "source": [
    "We will observe the angular position (phi) of the planet, and try to predict what this value will be in the future, 50 steps after the last column. The phi value takes values between [-$\\pi$,$\\pi$] and the error is not supposed to scale with the value, therefore we have chosen RMS error as the score metric."
   ]
  },
  {
   "cell_type": "markdown",
   "metadata": {},
   "source": [
    "## Data format"
   ]
  },
  {
   "cell_type": "markdown",
   "metadata": {},
   "source": [
    "The main data is the time series of angles of a planet, observed from the point of reference (not necessarily an inertial frame). Although the motion of the planet might be something very different than what we know of, the motion is restricted to the two dimensional plane for sake of simplicity.\n",
    "\n",
    "\n"
   ]
  },
  {
   "cell_type": "code",
   "execution_count": 1,
   "metadata": {},
   "outputs": [],
   "source": [
    "import numpy as np\n",
    "import pandas as pd\n",
    "import matplotlib.pyplot as plt"
   ]
  },
  {
   "cell_type": "code",
   "execution_count": 2,
   "metadata": {},
   "outputs": [
    {
     "name": "stdout",
     "output_type": "stream",
     "text": [
      "shape :  (200, 203)\n"
     ]
    },
    {
     "data": {
      "text/html": [
       "<div>\n",
       "<style scoped>\n",
       "    .dataframe tbody tr th:only-of-type {\n",
       "        vertical-align: middle;\n",
       "    }\n",
       "\n",
       "    .dataframe tbody tr th {\n",
       "        vertical-align: top;\n",
       "    }\n",
       "\n",
       "    .dataframe thead th {\n",
       "        text-align: right;\n",
       "    }\n",
       "</style>\n",
       "<table border=\"1\" class=\"dataframe\">\n",
       "  <thead>\n",
       "    <tr style=\"text-align: right;\">\n",
       "      <th></th>\n",
       "      <th>0</th>\n",
       "      <th>1</th>\n",
       "      <th>2</th>\n",
       "      <th>3</th>\n",
       "      <th>197</th>\n",
       "      <th>198</th>\n",
       "      <th>199</th>\n",
       "      <th>system</th>\n",
       "      <th>distribution</th>\n",
       "      <th>future</th>\n",
       "    </tr>\n",
       "  </thead>\n",
       "  <tbody>\n",
       "    <tr>\n",
       "      <th>0</th>\n",
       "      <td>0.46730</td>\n",
       "      <td>0.47928</td>\n",
       "      <td>0.49104</td>\n",
       "      <td>0.50261</td>\n",
       "      <td>2.71572</td>\n",
       "      <td>2.72576</td>\n",
       "      <td>2.73603</td>\n",
       "      <td>C</td>\n",
       "      <td>12</td>\n",
       "      <td>1.55645</td>\n",
       "    </tr>\n",
       "    <tr>\n",
       "      <th>1</th>\n",
       "      <td>0.77730</td>\n",
       "      <td>0.85519</td>\n",
       "      <td>0.91081</td>\n",
       "      <td>0.93460</td>\n",
       "      <td>0.66001</td>\n",
       "      <td>0.79071</td>\n",
       "      <td>0.92095</td>\n",
       "      <td>B</td>\n",
       "      <td>12</td>\n",
       "      <td>-1.99754</td>\n",
       "    </tr>\n",
       "    <tr>\n",
       "      <th>2</th>\n",
       "      <td>-2.26211</td>\n",
       "      <td>-2.37106</td>\n",
       "      <td>-2.48448</td>\n",
       "      <td>-2.60144</td>\n",
       "      <td>1.50304</td>\n",
       "      <td>1.35650</td>\n",
       "      <td>1.20993</td>\n",
       "      <td>E</td>\n",
       "      <td>14</td>\n",
       "      <td>-0.27651</td>\n",
       "    </tr>\n",
       "    <tr>\n",
       "      <th>3</th>\n",
       "      <td>-1.61153</td>\n",
       "      <td>-1.65357</td>\n",
       "      <td>-1.69793</td>\n",
       "      <td>-1.74406</td>\n",
       "      <td>-1.33709</td>\n",
       "      <td>-1.30292</td>\n",
       "      <td>-1.27312</td>\n",
       "      <td>C</td>\n",
       "      <td>14</td>\n",
       "      <td>-1.30723</td>\n",
       "    </tr>\n",
       "    <tr>\n",
       "      <th>4</th>\n",
       "      <td>-0.11265</td>\n",
       "      <td>-0.10658</td>\n",
       "      <td>-0.10057</td>\n",
       "      <td>-0.09412</td>\n",
       "      <td>-0.10147</td>\n",
       "      <td>-0.06264</td>\n",
       "      <td>-0.02405</td>\n",
       "      <td>B</td>\n",
       "      <td>10</td>\n",
       "      <td>1.86705</td>\n",
       "    </tr>\n",
       "    <tr>\n",
       "      <th>5</th>\n",
       "      <td>1.65886</td>\n",
       "      <td>1.70642</td>\n",
       "      <td>1.73964</td>\n",
       "      <td>1.75591</td>\n",
       "      <td>-1.06408</td>\n",
       "      <td>-0.88441</td>\n",
       "      <td>-0.71081</td>\n",
       "      <td>A</td>\n",
       "      <td>13</td>\n",
       "      <td>-3.11365</td>\n",
       "    </tr>\n",
       "    <tr>\n",
       "      <th>6</th>\n",
       "      <td>-0.95944</td>\n",
       "      <td>-0.87065</td>\n",
       "      <td>-0.77946</td>\n",
       "      <td>-0.68566</td>\n",
       "      <td>0.66309</td>\n",
       "      <td>0.78207</td>\n",
       "      <td>0.90190</td>\n",
       "      <td>A</td>\n",
       "      <td>11</td>\n",
       "      <td>-0.20693</td>\n",
       "    </tr>\n",
       "    <tr>\n",
       "      <th>7</th>\n",
       "      <td>2.52243</td>\n",
       "      <td>2.55029</td>\n",
       "      <td>2.58098</td>\n",
       "      <td>2.61402</td>\n",
       "      <td>-2.42054</td>\n",
       "      <td>-2.35892</td>\n",
       "      <td>-2.29736</td>\n",
       "      <td>D</td>\n",
       "      <td>14</td>\n",
       "      <td>1.52666</td>\n",
       "    </tr>\n",
       "    <tr>\n",
       "      <th>8</th>\n",
       "      <td>-0.68677</td>\n",
       "      <td>-0.64949</td>\n",
       "      <td>-0.61257</td>\n",
       "      <td>-0.57598</td>\n",
       "      <td>2.25664</td>\n",
       "      <td>2.31062</td>\n",
       "      <td>2.36461</td>\n",
       "      <td>D</td>\n",
       "      <td>11</td>\n",
       "      <td>-1.02371</td>\n",
       "    </tr>\n",
       "    <tr>\n",
       "      <th>9</th>\n",
       "      <td>-0.56130</td>\n",
       "      <td>-0.52931</td>\n",
       "      <td>-0.51508</td>\n",
       "      <td>-0.51869</td>\n",
       "      <td>-2.09188</td>\n",
       "      <td>-2.19330</td>\n",
       "      <td>-2.29531</td>\n",
       "      <td>A</td>\n",
       "      <td>10</td>\n",
       "      <td>1.48291</td>\n",
       "    </tr>\n",
       "  </tbody>\n",
       "</table>\n",
       "</div>"
      ],
      "text/plain": [
       "         0        1        2        3      197      198      199 system  \\\n",
       "0  0.46730  0.47928  0.49104  0.50261  2.71572  2.72576  2.73603      C   \n",
       "1  0.77730  0.85519  0.91081  0.93460  0.66001  0.79071  0.92095      B   \n",
       "2 -2.26211 -2.37106 -2.48448 -2.60144  1.50304  1.35650  1.20993      E   \n",
       "3 -1.61153 -1.65357 -1.69793 -1.74406 -1.33709 -1.30292 -1.27312      C   \n",
       "4 -0.11265 -0.10658 -0.10057 -0.09412 -0.10147 -0.06264 -0.02405      B   \n",
       "5  1.65886  1.70642  1.73964  1.75591 -1.06408 -0.88441 -0.71081      A   \n",
       "6 -0.95944 -0.87065 -0.77946 -0.68566  0.66309  0.78207  0.90190      A   \n",
       "7  2.52243  2.55029  2.58098  2.61402 -2.42054 -2.35892 -2.29736      D   \n",
       "8 -0.68677 -0.64949 -0.61257 -0.57598  2.25664  2.31062  2.36461      D   \n",
       "9 -0.56130 -0.52931 -0.51508 -0.51869 -2.09188 -2.19330 -2.29531      A   \n",
       "\n",
       "   distribution   future  \n",
       "0            12  1.55645  \n",
       "1            12 -1.99754  \n",
       "2            14 -0.27651  \n",
       "3            14 -1.30723  \n",
       "4            10  1.86705  \n",
       "5            13 -3.11365  \n",
       "6            11 -0.20693  \n",
       "7            14  1.52666  \n",
       "8            11 -1.02371  \n",
       "9            10  1.48291  "
      ]
     },
     "execution_count": 2,
     "metadata": {},
     "output_type": "execute_result"
    }
   ],
   "source": [
    "# Main data format\n",
    "data_df = pd.read_csv(\"data/train_small.csv\")\n",
    "\n",
    "print(\"shape : \", data_df.shape)\n",
    "data_df.iloc[:, [0, 1, 2, 3, 197, 198, 199, -3, -2, -1]].head(10)"
   ]
  },
  {
   "cell_type": "markdown",
   "metadata": {},
   "source": [
    "The indices on the horizontal axis represent time steps with equal intervals, can be considered as the unit of time. The values of phi for these times are listed. The \"future\" column represents the value of phi at 50 steps ahead. This is what we will try to predict in the regression problem. The \"system\" column represents one of the five mechanical systems (set of formulas) that was used to generate the time series. This will be the classification target. Each system comes with a bunch of \"hyperparameters\" which we draw randomly from a distribution. We will use different distributions which are indexed in the \"distribution\" column. This variable will be available both at training and test time, but it may have values in the test set not present in the training set. So this is not a target but not really a feature either, more like a \"hint\" (see cross-validation below)."
   ]
  },
  {
   "cell_type": "code",
   "execution_count": 3,
   "metadata": {},
   "outputs": [],
   "source": [
    "y_future = data_df['future'].values\n",
    "y_system = data_df['system'].values\n",
    "x_distribution = data_df['distribution'].values\n",
    "x_series = data_df.drop(['future', 'system', 'distribution'], axis=1).values"
   ]
  },
  {
   "cell_type": "code",
   "execution_count": 4,
   "metadata": {},
   "outputs": [
    {
     "data": {
      "text/plain": [
       "array([[ 0.4673 ,  0.47928,  0.49104, ...,  2.71572,  2.72576,  2.73603],\n",
       "       [ 0.7773 ,  0.85519,  0.91081, ...,  0.66001,  0.79071,  0.92095],\n",
       "       [-2.26211, -2.37106, -2.48448, ...,  1.50304,  1.3565 ,  1.20993],\n",
       "       ...,\n",
       "       [-0.39613, -0.37815, -0.3584 , ...,  0.27087,  0.30834,  0.34622],\n",
       "       [-3.10665, -2.98594, -2.86553, ..., -0.5604 , -0.48937, -0.41904],\n",
       "       [-1.97592, -1.93239, -1.88605, ..., -1.24425, -1.19202, -1.13827]])"
      ]
     },
     "execution_count": 4,
     "metadata": {},
     "output_type": "execute_result"
    }
   ],
   "source": [
    "x_series"
   ]
  },
  {
   "cell_type": "code",
   "execution_count": 5,
   "metadata": {},
   "outputs": [
    {
     "data": {
      "text/plain": [
       "array([12, 12, 14, 14, 10, 13, 11, 14, 11, 10, 12, 13, 12, 12, 14, 13, 11,\n",
       "       12, 12, 11, 12, 14, 12, 13, 11, 11, 14, 14, 12, 10, 12, 14, 12, 11,\n",
       "       13, 12, 13, 10, 13, 14, 13, 14, 14, 12, 12, 13, 11, 12, 11, 13, 10,\n",
       "       14, 14, 13, 14, 14, 13, 11, 11, 14, 13, 13, 13, 11, 12, 11, 11, 12,\n",
       "       14, 13, 13, 12, 11, 13, 14, 14, 10, 10, 12, 11, 13, 13, 11, 11, 10,\n",
       "       10, 14, 14, 14, 11, 11, 11, 10, 12, 11, 11, 14, 10, 14, 11, 10, 11,\n",
       "       13, 12, 13, 12, 11, 14, 12, 12, 12, 11, 10, 13, 13, 11, 10, 14, 14,\n",
       "       11, 10, 12, 10, 10, 13, 10, 10, 12, 13, 10, 14, 10, 12, 14, 11, 14,\n",
       "       11, 10, 10, 12, 10, 13, 14, 13, 13, 10, 10, 10, 14, 10, 14, 12, 13,\n",
       "       13, 14, 12, 12, 14, 10, 13, 12, 14, 14, 12, 11, 10, 11, 11, 12, 13,\n",
       "       13, 11, 10, 14, 12, 11, 14, 12, 13, 14, 13, 10, 10, 13, 14, 12, 10,\n",
       "       11, 11, 10, 10, 13, 12, 11, 12, 11, 14, 12, 13, 10])"
      ]
     },
     "execution_count": 5,
     "metadata": {},
     "output_type": "execute_result"
    }
   ],
   "source": [
    "x_distribution"
   ]
  },
  {
   "cell_type": "code",
   "execution_count": 6,
   "metadata": {},
   "outputs": [
    {
     "data": {
      "text/plain": [
       "array(['C', 'B', 'E', 'C', 'B', 'A', 'A', 'D', 'D', 'A', 'A', 'C', 'E',\n",
       "       'D', 'D', 'B', 'B', 'A', 'B', 'A', 'E', 'B', 'C', 'C', 'A', 'A',\n",
       "       'E', 'D', 'B', 'C', 'C', 'A', 'D', 'B', 'A', 'E', 'B', 'D', 'D',\n",
       "       'A', 'D', 'D', 'B', 'E', 'C', 'D', 'B', 'A', 'E', 'D', 'C', 'D',\n",
       "       'D', 'B', 'D', 'A', 'B', 'A', 'C', 'C', 'D', 'A', 'C', 'A', 'B',\n",
       "       'A', 'D', 'D', 'B', 'E', 'D', 'B', 'C', 'A', 'B', 'C', 'B', 'D',\n",
       "       'D', 'A', 'A', 'E', 'E', 'C', 'E', 'E', 'D', 'A', 'C', 'D', 'A',\n",
       "       'D', 'C', 'E', 'A', 'E', 'E', 'E', 'D', 'A', 'C', 'B', 'E', 'C',\n",
       "       'E', 'B', 'A', 'C', 'E', 'A', 'A', 'B', 'C', 'B', 'A', 'B', 'A',\n",
       "       'D', 'A', 'E', 'C', 'B', 'C', 'E', 'C', 'C', 'E', 'A', 'B', 'C',\n",
       "       'D', 'B', 'B', 'A', 'E', 'E', 'B', 'E', 'C', 'D', 'A', 'C', 'C',\n",
       "       'D', 'B', 'E', 'D', 'E', 'E', 'D', 'B', 'E', 'C', 'E', 'C', 'B',\n",
       "       'B', 'C', 'D', 'C', 'C', 'E', 'C', 'B', 'A', 'A', 'B', 'D', 'A',\n",
       "       'B', 'D', 'E', 'E', 'A', 'B', 'B', 'C', 'E', 'B', 'B', 'E', 'E',\n",
       "       'C', 'B', 'E', 'D', 'D', 'D', 'C', 'E', 'D', 'E', 'B', 'D', 'B',\n",
       "       'E', 'A', 'D', 'B', 'B'], dtype=object)"
      ]
     },
     "execution_count": 6,
     "metadata": {},
     "output_type": "execute_result"
    }
   ],
   "source": [
    "y_system"
   ]
  },
  {
   "cell_type": "code",
   "execution_count": 7,
   "metadata": {},
   "outputs": [
    {
     "data": {
      "text/plain": [
       "array([ 1.55645, -1.99754, -0.27651, -1.30723,  1.86705, -3.11365,\n",
       "       -0.20693,  1.52666, -1.02371,  1.48291,  0.68662, -1.58258,\n",
       "       -0.60436,  2.52805,  0.88146, -0.05055,  1.01023, -1.24577,\n",
       "        1.75874,  1.19494, -0.07263,  2.07198,  1.49171, -0.14395,\n",
       "        1.90662,  0.87529, -0.83032,  0.93406, -0.95521,  1.12551,\n",
       "       -2.44419, -2.7345 ,  2.15235, -0.97979, -0.17747, -1.33575,\n",
       "       -1.21158,  1.8016 , -1.098  , -2.8022 ,  0.34522,  2.21185,\n",
       "       -1.02968, -0.20183, -1.20952, -2.63829,  1.05192,  0.21538,\n",
       "        2.95818, -2.29037,  2.2144 ,  2.47155, -0.88815,  1.45926,\n",
       "       -1.81677,  1.66056,  1.40231, -0.04069,  0.60029,  2.10289,\n",
       "       -0.26635, -1.7032 ,  0.35601, -0.56147, -2.87334,  2.47941,\n",
       "        0.34363,  2.49176,  0.49962,  3.06193, -0.9236 ,  1.11707,\n",
       "       -1.474  , -1.49481, -0.02415, -0.76735,  1.95333,  2.44304,\n",
       "        2.30825,  2.3635 , -0.44243,  0.23529,  2.78502,  1.63556,\n",
       "       -2.10955, -0.75596, -2.4211 , -0.455  , -0.86509, -2.99509,\n",
       "        0.63001, -2.81298, -2.15483,  0.79475, -1.74288, -2.51311,\n",
       "       -0.63911, -0.96516,  2.73464,  0.4561 , -0.64905, -2.652  ,\n",
       "       -0.94161, -0.92161, -1.46436,  1.8359 ,  2.3728 ,  1.30986,\n",
       "        2.56531,  2.70044, -0.63167, -2.87286, -1.21701,  2.9063 ,\n",
       "       -1.61884,  3.01047,  1.34218,  0.5721 ,  2.59282,  0.32958,\n",
       "       -1.43949,  0.33654,  1.38442, -1.33579,  0.30157, -1.428  ,\n",
       "       -1.0595 ,  1.41994, -0.56992,  1.01703, -1.35289, -2.24516,\n",
       "       -2.42246, -0.77507, -2.66018,  0.0083 ,  2.70029, -2.15505,\n",
       "        2.2558 ,  1.66627, -2.13916,  0.58818,  2.83787, -1.30919,\n",
       "        1.27403,  0.77031,  2.37107,  0.25684, -0.63147, -0.70992,\n",
       "       -0.48562, -0.25293,  2.12373, -0.68955, -0.13685,  1.16542,\n",
       "       -2.0822 ,  1.79931, -2.2413 ,  1.4738 ,  2.21478,  1.50745,\n",
       "        0.46313,  1.69537, -0.2336 , -2.55909,  0.24271, -1.41317,\n",
       "       -0.14806, -2.04283, -0.54231, -1.71161, -1.22565,  2.88291,\n",
       "        2.18891,  2.62623,  0.88163,  2.99639, -1.7229 ,  1.09224,\n",
       "       -1.37788,  0.6025 , -2.93865,  0.64708,  0.58693, -2.68705,\n",
       "        1.96022, -1.17503,  0.83633,  1.41745, -1.09345,  2.762  ,\n",
       "        0.14216, -0.60697, -2.38461, -0.42178, -1.11095,  2.7235 ,\n",
       "        1.67746,  1.67797])"
      ]
     },
     "execution_count": 7,
     "metadata": {},
     "output_type": "execute_result"
    }
   ],
   "source": [
    "y_future"
   ]
  },
  {
   "cell_type": "markdown",
   "metadata": {},
   "source": [
    "The starting kit only includes the small data files, 5 rows only. The full public train and test datasets are to be downloaded with the script:"
   ]
  },
  {
   "cell_type": "code",
   "execution_count": 8,
   "metadata": {},
   "outputs": [],
   "source": [
    "!python download_data.py"
   ]
  },
  {
   "cell_type": "markdown",
   "metadata": {},
   "source": [
    "## Fitting a single time series"
   ]
  },
  {
   "cell_type": "markdown",
   "metadata": {},
   "source": [
    "Let's now pick one row and try to predict the future position of the planet by modeling the motion.\n",
    "To illustrate the challenge better, we have some additional set of files with extra information, namely the 2D-positions of the planets involved."
   ]
  },
  {
   "cell_type": "code",
   "execution_count": 9,
   "metadata": {},
   "outputs": [],
   "source": [
    "file = \"illustration\"\n",
    "data = pd.read_csv(\"data/\" + file + \"_phi.csv\")\n",
    "\n",
    "# Additional data items that are only for illustration:\n",
    "data_x = pd.read_csv(\"data/\" + file + \"_x.csv\")\n",
    "data_y = pd.read_csv(\"data/\" + file + \"_y.csv\")\n",
    "ref_x = pd.read_csv(\"data/\" + file + \"_ref_x.csv\")\n",
    "ref_y = pd.read_csv(\"data/\" + file + \"_ref_y.csv\")"
   ]
  },
  {
   "cell_type": "code",
   "execution_count": 10,
   "metadata": {},
   "outputs": [],
   "source": [
    "def plot_observation(i_sample, t_min=0, t_max=200):\n",
    "    phis = data.iloc[i_sample, range(t_max)].values[t_min:t_max]\n",
    "    ax = plt.gca()\n",
    "    ax.cla()\n",
    "    ax.set_xlim([0, len(phis)])\n",
    "    ax.set_ylim([-np.pi,np.pi])\n",
    "    plt.xlabel('time')\n",
    "    plt.ylabel('$\\phi$')\n",
    "\n",
    "    plt.scatter(range(len(phis)), phis)\n",
    "    plt.show()\n"
   ]
  },
  {
   "cell_type": "code",
   "execution_count": 11,
   "metadata": {},
   "outputs": [],
   "source": [
    "def plot_orbit(i_sample, t_min=0, t_max=200):\n",
    "    x = data_x.iloc[i_sample, range(t_max)].values[t_min:t_max]\n",
    "    y = data_y.iloc[i_sample, range(t_max)].values[t_min:t_max]\n",
    "    x0 = ref_x.iloc[i_sample, range(t_max)].values[t_min:t_max]\n",
    "    y0 = ref_y.iloc[i_sample, range(t_max)].values[t_min:t_max]\n",
    "\n",
    "    ax = plt.gca()\n",
    "    ax.cla()\n",
    "    xmax = np.amax(np.abs([x, y, x0, y0])) + 20\n",
    "\n",
    "    ax.set_xlim([-xmax, xmax])\n",
    "    ax.set_ylim([-xmax, xmax])\n",
    "    plt.axes().set_aspect('equal')\n",
    "    plt.scatter(x0, y0, color='r')\n",
    "    plt.plot(x0, y0, color='r')\n",
    "    plt.scatter(x, y)\n",
    "    for i, t in enumerate(x):\n",
    "        xl = np.array([x0[i], x[i]])\n",
    "        yl = np.array([y0[i], y[i]])\n",
    "        plot = plt.Line2D(xl, yl, color='k', linewidth=0.5, linestyle='dotted')\n",
    "        ax.add_artist(plot)\n",
    "    plt.show()\n",
    "\n"
   ]
  },
  {
   "cell_type": "code",
   "execution_count": 12,
   "metadata": {},
   "outputs": [
    {
     "data": {
      "image/png": "[encoded data removed]",
      "text/plain": [
       "<Figure size 432x288 with 1 Axes>"
      ]
     },
     "metadata": {},
     "output_type": "display_data"
    }
   ],
   "source": [
    "plot_observation(0)"
   ]
  },
  {
   "cell_type": "code",
   "execution_count": 13,
   "metadata": {},
   "outputs": [
    {
     "name": "stderr",
     "output_type": "stream",
     "text": [
      "/anaconda/envs/python-flow/lib/python3.6/site-packages/matplotlib/cbook/deprecation.py:107: MatplotlibDeprecationWarning: Adding an axes using the same arguments as a previous axes currently reuses the earlier instance.  In a future version, a new instance will always be created and returned.  Meanwhile, this warning can be suppressed, and the future behavior ensured, by passing a unique label to each axes instance.\n",
      "  warnings.warn(message, mplDeprecation, stacklevel=1)\n"
     ]
    },
    {
     "data": {
      "image/png": "[encoded data removed]",
      "text/plain": [
       "<Figure size 432x288 with 1 Axes>"
      ]
     },
     "metadata": {},
     "output_type": "display_data"
    }
   ],
   "source": [
    "plot_orbit(0)"
   ]
  },
  {
   "cell_type": "markdown",
   "metadata": {},
   "source": [
    "Notice that this is a single row of the dataset. With only the information in a single row, we can already make a prediction of the future, if we make some assumptions. For example..."
   ]
  },
  {
   "cell_type": "code",
   "execution_count": 14,
   "metadata": {},
   "outputs": [],
   "source": [
    "# Function that returns the final angle of several epicycles joined successively\n",
    "def f_phi(a, w, p, t):\n",
    "    x = np.sum(a * np.cos(w * t + p))\n",
    "    y = np.sum(a * np.sin(w * t + p))\n",
    "    return np.arctan2(y, x)"
   ]
  },
  {
   "cell_type": "code",
   "execution_count": 15,
   "metadata": {},
   "outputs": [],
   "source": [
    "# Look at the 0th row\n",
    "phis = data.iloc[0, range(200)].values"
   ]
  },
  {
   "cell_type": "code",
   "execution_count": 16,
   "metadata": {},
   "outputs": [
    {
     "data": {
      "image/png": "[encoded data removed]",
      "text/plain": [
       "<Figure size 432x288 with 1 Axes>"
      ]
     },
     "metadata": {},
     "output_type": "display_data"
    }
   ],
   "source": [
    "# Some initial guess of parameters by eye (and some knowledge of physics):\n",
    "c_initial = np.array([51., 2.*np.sqrt(1./51.), np.pi, 105., np.sqrt(1./105.), 0.])\n",
    "\n",
    "c = c_initial\n",
    "a = c[0::3]\n",
    "w = c[1::3]\n",
    "p = c[2::3]\n",
    "\n",
    "times = np.array(range(250))\n",
    "phi_pred = [f_phi(a, w, p, i) for i in times]\n",
    "\n",
    "plt.scatter(times[:len(phis)], phis)\n",
    "plt.plot(times, phi_pred)\n",
    "plt.show()"
   ]
  },
  {
   "cell_type": "markdown",
   "metadata": {},
   "source": [
    "Now, let's fit the parameters to describe the function better:"
   ]
  },
  {
   "cell_type": "code",
   "execution_count": 17,
   "metadata": {},
   "outputs": [],
   "source": [
    "def epicycle_error(c):\n",
    "    a = c[0::3]\n",
    "    w = c[1::3]\n",
    "    p = c[2::3]\n",
    "    phi_epi = [f_phi(a, w, p, i) for i in range(200)]\n",
    "    return np.sum((np.unwrap(phis - phi_epi))**2)"
   ]
  },
  {
   "cell_type": "code",
   "execution_count": 18,
   "metadata": {},
   "outputs": [
    {
     "data": {
      "image/png": "[encoded data removed]",
      "text/plain": [
       "<Figure size 432x288 with 1 Axes>"
      ]
     },
     "metadata": {},
     "output_type": "display_data"
    },
    {
     "name": "stdout",
     "output_type": "stream",
     "text": [
      "Fitted parameters :  [5.21092589e+01 2.69584554e-01 3.15340607e+00 1.07120115e+02\n",
      " 9.13450445e-02 5.12794314e-03]\n"
     ]
    }
   ],
   "source": [
    "c = np.zeros(6)\n",
    "\n",
    "use_cma = False\n",
    "if(use_cma):\n",
    "    import cma\n",
    "    es = cma.CMAEvolutionStrategy(x0=c_initial, sigma0 = 0.001)\n",
    "    es.optimize(epicycle_error)\n",
    "    es.result_pretty()\n",
    "    c = np.array(es.result.xbest).reshape(-1, 1)\n",
    "else:\n",
    "    from scipy.optimize import minimize\n",
    "    res = minimize(fun=epicycle_error, x0=c_initial,\n",
    "                   method='Nelder-Mead', tol=1e-10,\n",
    "                   options={'xtol': 0.001, 'maxiter': 100000})\n",
    "    c = res.x\n",
    "\n",
    "a = c[0::3]\n",
    "w = c[1::3]\n",
    "p = c[2::3]\n",
    "\n",
    "times = np.array(range(len(phis)))\n",
    "phi_pred = [f_phi(a, w, p, i) for i in range(251)]\n",
    "\n",
    "plt.plot(range(251), phi_pred)\n",
    "plt.scatter(times, phis)\n",
    "plt.show()\n",
    "\n",
    "print(\"Fitted parameters : \", c)"
   ]
  },
  {
   "cell_type": "markdown",
   "metadata": {},
   "source": [
    "The above is already what Copernican model would correctly describe. Let's now insist that the Mars is rotating in a bunch of epicycles around the earth, which are sucessively smaller. In order to do that, add more epicycles, and L1 regularization to kill those that are not needed. Below is a time-expensive computation, not recommended for the analysis of the full dataset.\n",
    "Since the functions involved are differentiable, it is perhaps possible to implement a faster method for optimization, e.g. gradient descent. An example is in the example: submissions/tf_ptolemy/"
   ]
  },
  {
   "cell_type": "code",
   "execution_count": 19,
   "metadata": {},
   "outputs": [],
   "source": [
    "def epicycle_error_l1reg(c):\n",
    "    a = c[0::3]\n",
    "    w = c[1::3]\n",
    "    p = c[2::3]\n",
    "    phi_epi = [f_phi(a, w, p, i) for i in range(200)]\n",
    "    return np.sum((np.unwrap(phis - phi_epi))**2) + 0.1 * np.sum(np.abs(a) / np.abs(a[0]))"
   ]
  },
  {
   "cell_type": "code",
   "execution_count": 20,
   "metadata": {},
   "outputs": [
    {
     "data": {
      "image/png": "[encoded data removed]",
      "text/plain": [
       "<Figure size 432x288 with 1 Axes>"
      ]
     },
     "metadata": {},
     "output_type": "display_data"
    },
    {
     "name": "stdout",
     "output_type": "stream",
     "text": [
      "Fitted parameters :  [ 6.04332050e+01  9.10313146e-02  2.42081947e-03  5.98938042e+00\n",
      "  1.12758734e-01  3.85993346e-03  4.45081474e-01  5.09210615e-01\n",
      " -2.79211269e-03  5.08937046e+00  6.54358343e-02 -6.40902640e-04\n",
      "  1.44952153e+00  4.73680250e-01  2.19746931e-03]\n"
     ]
    }
   ],
   "source": [
    "c_overfit = np.array([51., 0.3, 0., \n",
    "                      10., 0.1, 0.,\n",
    "                      10., 0.5, 0.,\n",
    "                      5., 0.1, 0.,\n",
    "                      5., 0.5, 0.,\n",
    "                     ])\n",
    "\n",
    "c = np.zeros(18)\n",
    "\n",
    "use_cma = False\n",
    "if(use_cma):\n",
    "    import cma\n",
    "    es = cma.CMAEvolutionStrategy(x0=c_overfit, sigma0 = 0.001)\n",
    "    es.optimize(epicycle_error)\n",
    "    es.result_pretty()\n",
    "    c = np.array(es.result.xbest).reshape(-1, 1)\n",
    "else:\n",
    "    from scipy.optimize import minimize\n",
    "    res = minimize(fun=epicycle_error_l1reg, x0=c_overfit,\n",
    "                   method='Nelder-Mead', tol=1e-10,\n",
    "                   options={'xtol': 0.001, 'maxiter': 10000})\n",
    "    c = res.x\n",
    "\n",
    "\n",
    "a = c[0::3]\n",
    "w = c[1::3]\n",
    "p = c[2::3]\n",
    "\n",
    "times = np.array(range(len(phis)))\n",
    "phi_pred = [f_phi(a, w, p, i) for i in range(251)]\n",
    "\n",
    "plt.scatter(times, phis)\n",
    "plt.plot(range(251), phi_pred)\n",
    "plt.show()\n",
    "\n",
    "print(\"Fitted parameters : \", c)"
   ]
  },
  {
   "cell_type": "markdown",
   "metadata": {},
   "source": [
    "Let's see whether LSTM can predict that far ahead... "
   ]
  },
  {
   "cell_type": "code",
   "execution_count": 28,
   "metadata": {},
   "outputs": [
    {
     "name": "stderr",
     "output_type": "stream",
     "text": [
      "Using TensorFlow backend.\n"
     ]
    }
   ],
   "source": [
    "from keras.models import Sequential\n",
    "from keras.models import Model\n",
    "from keras.layers import Input, Dense\n",
    "from keras.layers import LSTM\n",
    "from sklearn.preprocessing import MinMaxScaler\n",
    "from sklearn.metrics import mean_squared_error"
   ]
  },
  {
   "cell_type": "code",
   "execution_count": 121,
   "metadata": {},
   "outputs": [
    {
     "name": "stdout",
     "output_type": "stream",
     "text": [
      "Epoch 1/8\n",
      " - 5s - loss: 0.3100\n",
      "Epoch 2/8\n",
      " - 3s - loss: 0.1826\n",
      "Epoch 3/8\n",
      " - 3s - loss: 0.1300\n",
      "Epoch 4/8\n",
      " - 3s - loss: 0.0851\n",
      "Epoch 5/8\n",
      " - 3s - loss: 0.0779\n",
      "Epoch 6/8\n",
      " - 3s - loss: 0.0850\n",
      "Epoch 7/8\n",
      " - 3s - loss: 0.0745\n",
      "Epoch 8/8\n",
      " - 3s - loss: 0.0555\n"
     ]
    },
    {
     "data": {
      "text/plain": [
       "<keras.callbacks.History at 0x140fb6fd0>"
      ]
     },
     "execution_count": 121,
     "metadata": {},
     "output_type": "execute_result"
    }
   ],
   "source": [
    "n_time = 50\n",
    "target_future = 50\n",
    "predict_future = 50\n",
    "n_train = 100\n",
    "sample_step = 1\n",
    "n_steps = len(phis)\n",
    "\n",
    "X_ts = np.ndarray(shape=(n_train, n_time, 1))\n",
    "\n",
    "for i in range(0, n_train):\n",
    "    X_ts[i, :, 0] = phis[i * sample_step:i * sample_step + n_time] / np.pi\n",
    "\n",
    "target =  phis[n_time + predict_future: n_train * sample_step + n_time  + predict_future: sample_step] / np.pi\n",
    "inputs = Input(shape=(n_time, 1), dtype='float', name='main_input')\n",
    "layer = LSTM(12)(inputs)\n",
    "predictions = Dense(1)(layer)\n",
    "model = Model(inputs=inputs, outputs=predictions)\n",
    "model.compile(optimizer='adam',\n",
    "              loss='mean_squared_error')\n",
    "\n",
    "model.fit(X_ts, target, epochs=8, batch_size=1, verbose=0)"
   ]
  },
  {
   "cell_type": "code",
   "execution_count": 122,
   "metadata": {},
   "outputs": [
    {
     "data": {
      "image/png": "[encoded data removed]",
      "text/plain": [
       "<Figure size 432x288 with 1 Axes>"
      ]
     },
     "metadata": {},
     "output_type": "display_data"
    }
   ],
   "source": [
    "x_pred = np.ndarray(shape=(n_steps + target_future, n_time, 1))\n",
    "for i in range(0, n_steps - n_time):\n",
    "    x_pred[i, :, 0] = phis[i:i + n_time] / np.pi\n",
    "\n",
    "for i in range(n_steps - n_time, n_steps + target_future):\n",
    "    x_pred[i, :, 0] = model.predict(x_pred[i - n_time - predict_future].reshape(1, n_time, 1))[0]\n",
    "\n",
    "plt.scatter(times, phis)\n",
    "plt.plot(range(n_steps + target_future), x_pred[:, 0, 0] * np.pi)\n",
    "plt.show()"
   ]
  },
  {
   "cell_type": "markdown",
   "metadata": {},
   "source": [
    "# The challenge"
   ]
  },
  {
   "cell_type": "markdown",
   "metadata": {},
   "source": [
    "Notice that this was a single row in a dataset.\n",
    "The challenge is to do this analysis for each row separately. The dataset now consists of alternative physics/mechanics scenarios, in which some formulas/dynamics are made up. Each row in the dataset is another physics system with unknown dynamics, and randomized initial state, for which the participants are to determine the relevant model first and re-fit for row-specific parameters."
   ]
  },
  {
   "cell_type": "markdown",
   "metadata": {},
   "source": [
    "The participant can follow many different strategies. Some examples are provided, which are explained below, but any solution that returns the right classification and regression results is fine."
   ]
  },
  {
   "cell_type": "markdown",
   "metadata": {},
   "source": [
    "## Using feature extractor to simplify data "
   ]
  },
  {
   "cell_type": "markdown",
   "metadata": {},
   "source": [
    "The above process could be performed either inside the predict() function, or, it can be performed in a transform() function in FeatureExtractor and the predict() simply returns the corresponding result."
   ]
  },
  {
   "cell_type": "markdown",
   "metadata": {},
   "source": [
    "## Classification problem and score"
   ]
  },
  {
   "cell_type": "markdown",
   "metadata": {},
   "source": [
    "Although so far  the classification part of the problem has been described as a helpful side task, it is essential to the main motivation of this challenge: Invent theoretical models in science.\n",
    "\n",
    "Ideally, we would like to find the best functions that describe the data. In this challenge, we simplified this effort by assuming that the first step in generating the formula is to be able to classify a dataset into a set of given formulas. \n",
    "\n",
    "As the formula space is extended, the problem gets similar to theory generation.\n"
   ]
  },
  {
   "cell_type": "markdown",
   "metadata": {},
   "source": [
    "## starting_kit : Simple ML model"
   ]
  },
  {
   "cell_type": "markdown",
   "metadata": {},
   "source": [
    "The starting kit is basically a template for all the functions to be implemented. It attempts to solve the classification and regression problems without any knowledge of the context and the discussion above. You can use this example to start implementing your own approach from complete scratch."
   ]
  },
  {
   "cell_type": "code",
   "execution_count": null,
   "metadata": {},
   "outputs": [],
   "source": [
    "!ramp_test_submission --submission starting_kit"
   ]
  },
  {
   "cell_type": "markdown",
   "metadata": {},
   "source": [
    "## Ptolemian model"
   ]
  },
  {
   "cell_type": "markdown",
   "metadata": {},
   "source": [
    "submissions/ptolemy is an example that incorporates the above formula modeling into a proper submission. The actual fitting happens in the FeatureExtractor, from which the predicted value is passed on to the regressor directly. "
   ]
  },
  {
   "cell_type": "code",
   "execution_count": null,
   "metadata": {},
   "outputs": [],
   "source": [
    "!ramp_test_submission --submission ptolemy"
   ]
  },
  {
   "cell_type": "markdown",
   "metadata": {},
   "source": [
    "### Tensorflow version for advanced optimization"
   ]
  },
  {
   "cell_type": "markdown",
   "metadata": {},
   "source": [
    "submissions/tf_ptolemy is the same approach as above, but implemented with tensorflow eager execution. The participants may work on an optimization strategy using gradient calculations."
   ]
  },
  {
   "cell_type": "code",
   "execution_count": null,
   "metadata": {},
   "outputs": [],
   "source": [
    "!ramp_test_submission --submission tf_ptolemy"
   ]
  },
  {
   "cell_type": "markdown",
   "metadata": {},
   "source": [
    "## Copernican model"
   ]
  },
  {
   "cell_type": "markdown",
   "metadata": {},
   "source": [
    "submissions/tf_copernicus is the same as tf_ptolemy, except it is restricted to only 2 circles and without regularization, it tries to fit the observed motion of Mars from Earth analytically. If a good fitting strategy is implemented, it can fit a the view of a circular orbit from another perfectly circular one, but fail for any other system."
   ]
  },
  {
   "cell_type": "code",
   "execution_count": null,
   "metadata": {},
   "outputs": [],
   "source": [
    "!ramp_test_submission --submission tf_copernicus"
   ]
  },
  {
   "cell_type": "markdown",
   "metadata": {},
   "source": [
    "## LSTM approaches"
   ]
  },
  {
   "cell_type": "markdown",
   "metadata": {},
   "source": [
    "Three different LSTM-based examples are provided, distinct by their scope of training."
   ]
  },
  {
   "cell_type": "markdown",
   "metadata": {},
   "source": [
    "### LSTM trained for all sample\n",
    "The simplest version basically takes every row in the dataset, and trains the model, then predicts the result when a new row is given.\n"
   ]
  },
  {
   "cell_type": "code",
   "execution_count": null,
   "metadata": {},
   "outputs": [],
   "source": [
    "!ramp_test_submission --submission lstm_all_sample"
   ]
  },
  {
   "cell_type": "markdown",
   "metadata": {},
   "source": [
    "### LSTM trained for each system\n",
    "One can first split the dataset into the different systems and train separate models for each. At the prediction time, we first predict the system type and then use the correspondingly trained model for regression."
   ]
  },
  {
   "cell_type": "code",
   "execution_count": null,
   "metadata": {},
   "outputs": [],
   "source": [
    "!ramp_test_submission --submission lstm_by_class"
   ]
  },
  {
   "cell_type": "markdown",
   "metadata": {},
   "source": [
    "### LSTM trained for each row\n",
    "As each row is a time series, one can re-train a new LSTM within each row and predict the 50 steps ahead by running the model recursively. This is already what was illustrated in the above fitting exercise with a single row. This approach, however, will be costly in computing, therefore it should be tested carefully before submitting."
   ]
  },
  {
   "cell_type": "code",
   "execution_count": null,
   "metadata": {},
   "outputs": [],
   "source": [
    "!ramp_test_submission --submission lstm_by_row"
   ]
  },
  {
   "cell_type": "markdown",
   "metadata": {},
   "source": [
    "## Scoring"
   ]
  },
  {
   "cell_type": "markdown",
   "metadata": {},
   "source": [
    "Although there are two scores involved, we want to set the regression as the main score and treat the classification problem as a side product of the optimization for regression. We want, however, the participants to at least submit a non-trivial solution for classification therefore we assign a small but non-zero proportion for the combined score. The classification score is the fraction of false identifications (printed as \"err\"), and has a value between 0 and 1. A random assignment is expected to have an error of 0.80.\n",
    "For the regression, RMS-error is used (printed as \"rmse\"), which is wrapped around [$\\pi$] and [-$\\pi$]. It's maximum value is [$\\pi$] and a random assignment is expected to have an error around 1.8.\n",
    "The final error (being lower the better) is 0.1 * err + 0.9 * rmse, printed as \"combined\"."
   ]
  },
  {
   "cell_type": "markdown",
   "metadata": {},
   "source": [
    "# Cross-Validation"
   ]
  },
  {
   "cell_type": "markdown",
   "metadata": {},
   "source": [
    "Each row in the data sample is generated with random values of parameters that go into the formula. As these parameters cannot cover the infinite phase space, they come from certain distributions which may be different for training and testing datasets. To test the robustness of the learning approach, one can already test the dependency of parameter values, by using different input distributions in traning and validation.\n",
    "In order to do that, we have provided a \"distribution\" variable in the dataset, by selection of which one can have an handle of sub-datasets with different parameter distributions.\n",
    "The the get_cv function in problem.py implements this already, hence the 3 CV folds in the starting kit reflect the above.\n",
    "The \"distribution\" variable appears in the data X, however make sure you do not train your models with this variable, as the values of this variable in the test sample will be different."
   ]
  },
  {
   "cell_type": "markdown",
   "metadata": {},
   "source": [
    "## Local testing/exploration\n",
    "\n",
    "It is <b><span style=\"color:red\">important that you test your submission files before submitting them</span></b>. For this we provide a unit test. Note that the test runs on your files in [`submissions/starting_kit`](/tree/submissions/starting_kit), not on the classes defined in the cells of this notebook.\n",
    "\n",
    "Check list\n",
    "\n",
    "- Make sure you have installed `ramp-workflow` locally (see [above](#Installation-of-ramp-workflow))\n",
    "- Make sure that the python files `object_detector.py` is in the  `submissions/your_submission` folder, and the train and test data are in [`data`](/tree/data)\n",
    "- If you haven't yet, download the images by executing \n",
    "  ```\n",
    "  python download_data.py\n",
    "  ```\n",
    "\n",
    "Finally, make sure the local processing goes through by running the\n",
    "\n",
    "```\n",
    "ramp_test_submission --submission your_submission\n",
    "```\n",
    "\n",
    "If you want to quickly test the that there are no obvious code errors, use the `--quick-test` keyword to only use data from the first 30 images. \n",
    "\n",
    "```\n",
    "ramp_test_submission --submission your_submission --quick-test\n",
    "```"
   ]
  },
  {
   "cell_type": "code",
   "execution_count": null,
   "metadata": {},
   "outputs": [],
   "source": [
    "!ramp_test_submission --quick-test"
   ]
  },
  {
   "cell_type": "markdown",
   "metadata": {},
   "source": [
    "If you get to see the train and test scores, and no errors, then you can submit your model to the ramp.studio."
   ]
  },
  {
   "cell_type": "markdown",
   "metadata": {},
   "source": [
    "## Submitting to [ramp.studio](http://ramp.studio)\n",
    "\n",
    "Once you found a good model, you can submit them to [ramp.studio](https://www.ramp.studio). First, if it is your first time using RAMP, [sign up](https://www.ramp.studio/sign_up), otherwise [log in](https://www.ramp.studio/login). Then find an open event on the particular problem, the event [mars_craters](https://www.ramp.studio/events/mars_craters_cifar) for this RAMP. Sign up for the event. Both signups are controled by RAMP administrators, so there **can be a delay between asking for signup and being able to submit**.\n",
    "\n",
    "Once your signup request is accepted, you can go to your [sandbox](https://www.ramp.studio/events/mechanics/sandbox) and copy-paste (or upload) your files. The submission is trained and tested on our backend in the same way as `ramp_test_submission` does it locally. While your submission is waiting in the queue and being trained, you can find it in the \"New submissions (pending training)\" table in [my submissions](https://www.ramp.studio/events/mechanics/my_submissions). Once it is trained, you get a mail, and your submission shows up on the [public leaderboard](https://www.ramp.studio/events/mechanics/leaderboard). \n",
    "If there is an error (despite having tested your submission locally with `ramp_test_submission`), it will show up in the \"Failed submissions\" table in [my submissions](https://www.ramp.studio/events/mechanics/my_submissions). You can click on the error to see part of the trace.\n",
    "\n",
    "After submission, do not forget to give credits to the previous submissions you reused or integrated into your submission.\n",
    "\n",
    "The data set we use at the backend is usually different from what you find in the starting kit, so the score may be different.\n",
    "\n",
    "The usual way to work with RAMP is to explore solutions, add feature transformations, select models, perhaps do some AutoML/hyperopt, etc., _locally_, and checking them with `ramp_test_submission`. The script prints scores for each cross-validation fold\n",
    "```\n",
    "        score  combined    err   rmse\n",
    "        train     1.322  0.423  1.422\n",
    "        valid     1.740  0.730  1.852\n",
    "        test      1.775  0.745  1.889\n",
    "```\n",
    "and the mean cross-validation score at the end \n",
    "```\n",
    "----------------------------\n",
    "Mean CV scores\n",
    "----------------------------\n",
    "        score        combined         err            rmse\n",
    "        train   1.34 ± 0.0264   0.455 ± 0.024  1.438 ± 0.0305\n",
    "        valid  1.668 ± 0.1004   0.726 ± 0.0605 1.773 ± 0.1066\n",
    "        test   1.722 ± 0.0278   0.706 ± 0.025  1.835 ± 0.0293\n",
    "----------------------------\n",
    "Bagged scores\n",
    "----------------------------\n",
    "        score  combined\n",
    "        valid     1.669\n",
    "        test      1.686\n",
    "```\n",
    "\n",
    "The official score in this RAMP (the first score column after \"historical contributivity\" on the [leaderboard](https://www.ramp.studio/events/mechanics/leaderboard)) is the mean average precision AP, that is the area under the precision/recall curve. When the score is good enough, you can submit it at the RAMP."
   ]
  },
  {
   "cell_type": "markdown",
   "metadata": {},
   "source": [
    "## More information\n",
    "\n",
    "You can find more information in the [README](https://github.com/paris-saclay-cds/ramp-workflow/blob/master/README.md) of the [ramp-workflow library](https://github.com/paris-saclay-cds/ramp-workflow)."
   ]
  },
  {
   "cell_type": "markdown",
   "metadata": {},
   "source": [
    "## Contact\n",
    "\n",
    "Don't hesitate to [contact us](mailto:admin@ramp.studio?subject=mechanics ramp)."
   ]
  },
  {
   "cell_type": "markdown",
   "metadata": {},
   "source": [
    "# Appendix: Visualize some example systems"
   ]
  },
  {
   "cell_type": "code",
   "execution_count": 19,
   "metadata": {},
   "outputs": [],
   "source": [
    "file = \"illustration\"\n",
    "data = pd.read_csv(\"data/\" + file + \"_phi.csv\")\n",
    "\n",
    "# Additional data items that are only for illustration:\n",
    "data_x = pd.read_csv(\"data/\" + file + \"_x.csv\")\n",
    "data_y = pd.read_csv(\"data/\" + file + \"_y.csv\")\n",
    "ref_x = pd.read_csv(\"data/\" + file + \"_ref_x.csv\")\n",
    "ref_y = pd.read_csv(\"data/\" + file + \"_ref_y.csv\")"
   ]
  },
  {
   "cell_type": "code",
   "execution_count": 20,
   "metadata": {},
   "outputs": [],
   "source": [
    "def plot_data(i, t_min=0, t_max=200):\n",
    "    plot_orbit(i, t_min, t_max)\n",
    "    plot_observation(i, t_min, t_max)"
   ]
  },
  {
   "cell_type": "code",
   "execution_count": null,
   "metadata": {
    "scrolled": false
   },
   "outputs": [],
   "source": [
    "for i in range(len(data.index)):\n",
    "    plot_data(i, 0, 200)"
   ]
  },
  {
   "cell_type": "code",
   "execution_count": null,
   "metadata": {
    "collapsed": true
   },
   "outputs": [],
   "source": []
  }
 ],
 "metadata": {
  "kernelspec": {
   "display_name": "Python 3",
   "language": "python",
   "name": "python3"
  },
  "language_info": {
   "codemirror_mode": {
    "name": "ipython",
    "version": 3
   },
   "file_extension": ".py",
   "mimetype": "text/x-python",
   "name": "python",
   "nbconvert_exporter": "python",
   "pygments_lexer": "ipython3",
   "version": "3.6.5"
  }
 },
 "nbformat": 4,
 "nbformat_minor": 2
}
