{
 "cells": [
  {
   "cell_type": "markdown",
   "metadata": {},
   "source": [
    "<div style=\"text-align: left\">\n",
    "<img src=\"http://project.inria.fr/saclaycds/files/2017/02/logoUPSayPlusCDS_990.png\" width=\"800px\">\n",
    "</div>\n",
    "\n",
    "# [RAMP](https://www.ramp.studio/problems/mechanics) on Mechanics determination\n",
    "\n",
    "_Yetkin Yilmaz (LAL), Balazs Kegl (CDS, LAL)_"
   ]
  },
  {
   "cell_type": "markdown",
   "metadata": {},
   "source": [
    "The goal of this challenge is to find ways to simulate the theoretical model finding process in physics or similar sciences. A good example is the paradigm shift between the Ptolemy and Copernican models of the universe.\n",
    "\n",
    "In the challenge we start by putting ourselves in Ptolemy's shoes, approach the same problem in imaginary systems in which the motion of the objects in the sky could have completely different underlying mechanics that we don't know of.\n",
    "\n",
    "\n"
   ]
  },
  {
   "cell_type": "markdown",
   "metadata": {},
   "source": [
    "<img src=\"http://ecuip.lib.uchicago.edu/multiwavelength-astronomy/images/gamma-ray/impact/ptolemy_cosmos.jpg\" alt=\"Drawing\" style=\"width: 700px;\"/>"
   ]
  },
  {
   "cell_type": "markdown",
   "metadata": {},
   "source": [
    "In the beginning, the task was simply to predict the future. Considering the early history of the birth of science, the capability of predicting the future was something that gave influential power to individuals; hence the investment of rulers to astrologers, and eventually to astronomers.\n",
    "\n",
    "Scientific method was invented through this effort, marked by the Copernican revolution, which significantly boosted the predictive power of the models. While Ptolemy had a model that was able to (with sufficient amount of parameters) explain what has been observed, Copernican model was able to predict what came next.\n",
    "\n",
    "In the terminology of ML, Ptolemy was able to achieve a good training score, but Copernicus was able to optimize training and test scores simultaneously. This observation led to the triumph of scientific method.\n",
    "\n",
    "Inspired by this, we first focus on the regression problem, and then discuss how this leads to the formula classification to help solve it better."
   ]
  },
  {
   "cell_type": "markdown",
   "metadata": {},
   "source": [
    "The challenge consists of two parts: Classification and Regression. Both of these processes will also require Feature Extraction. The workflow can be briefly sketched as:\n",
    "\n",
    "\n"
   ]
  },
  {
   "cell_type": "markdown",
   "metadata": {},
   "source": [
    "![](figures/workflow.png)"
   ]
  },
  {
   "cell_type": "markdown",
   "metadata": {},
   "source": [
    "In this tutorial, we will discuss the workflow elements in reverse order: Regression, FE_Reg, Classification, FE_clf, in order to understand the motivations better. We consider the regression to be the absolute problem, and every step added before is a tool that eases the task of its successor.\n",
    "\n",
    "\n",
    "\n"
   ]
  },
  {
   "cell_type": "markdown",
   "metadata": {},
   "source": [
    "## Regression problem"
   ]
  },
  {
   "cell_type": "markdown",
   "metadata": {},
   "source": [
    "We will observe the angular position (phi) of the planet, and try to predict what this value will be in the future. The phi value takes values between [-$\\pi$,$\\pi$] and the error is not supposed to scale with the value, therefore we have chosen RMS error as the score metric."
   ]
  },
  {
   "cell_type": "markdown",
   "metadata": {},
   "source": [
    "## Data format"
   ]
  },
  {
   "cell_type": "markdown",
   "metadata": {},
   "source": [
    "The main data is the time series of angles of a planet, observed from the point of reference (not necessarily an inertial frame). Although the motion of the planet might be something very different than what we know of, the motion is restricted to the two dimensional plane for sake of simplicity.\n",
    "\n",
    "\n"
   ]
  },
  {
   "cell_type": "code",
   "execution_count": 43,
   "metadata": {},
   "outputs": [],
   "source": [
    "import numpy as np\n",
    "import pandas as pd\n",
    "import matplotlib.pyplot as plt"
   ]
  },
  {
   "cell_type": "code",
   "execution_count": 44,
   "metadata": {},
   "outputs": [
    {
     "name": "stdout",
     "output_type": "stream",
     "text": [
      "shape :  (2000, 203)\n"
     ]
    },
    {
     "data": {
      "text/html": [
       "<div>\n",
       "<style scoped>\n",
       "    .dataframe tbody tr th:only-of-type {\n",
       "        vertical-align: middle;\n",
       "    }\n",
       "\n",
       "    .dataframe tbody tr th {\n",
       "        vertical-align: top;\n",
       "    }\n",
       "\n",
       "    .dataframe thead th {\n",
       "        text-align: right;\n",
       "    }\n",
       "</style>\n",
       "<table border=\"1\" class=\"dataframe\">\n",
       "  <thead>\n",
       "    <tr style=\"text-align: right;\">\n",
       "      <th></th>\n",
       "      <th>0</th>\n",
       "      <th>1</th>\n",
       "      <th>2</th>\n",
       "      <th>3</th>\n",
       "      <th>197</th>\n",
       "      <th>198</th>\n",
       "      <th>199</th>\n",
       "      <th>system</th>\n",
       "      <th>distribution</th>\n",
       "      <th>future</th>\n",
       "    </tr>\n",
       "  </thead>\n",
       "  <tbody>\n",
       "    <tr>\n",
       "      <th>0</th>\n",
       "      <td>-2.28861</td>\n",
       "      <td>-2.32769</td>\n",
       "      <td>-2.36418</td>\n",
       "      <td>-2.39483</td>\n",
       "      <td>-0.64168</td>\n",
       "      <td>-0.58043</td>\n",
       "      <td>-0.52136</td>\n",
       "      <td>A</td>\n",
       "      <td>10</td>\n",
       "      <td>1.59759</td>\n",
       "    </tr>\n",
       "    <tr>\n",
       "      <th>1</th>\n",
       "      <td>-0.81772</td>\n",
       "      <td>-0.80912</td>\n",
       "      <td>-0.81015</td>\n",
       "      <td>-0.82126</td>\n",
       "      <td>0.47328</td>\n",
       "      <td>0.51531</td>\n",
       "      <td>0.55769</td>\n",
       "      <td>B</td>\n",
       "      <td>10</td>\n",
       "      <td>2.48095</td>\n",
       "    </tr>\n",
       "    <tr>\n",
       "      <th>2</th>\n",
       "      <td>-2.80101</td>\n",
       "      <td>-2.77352</td>\n",
       "      <td>-2.74827</td>\n",
       "      <td>-2.72509</td>\n",
       "      <td>-1.48576</td>\n",
       "      <td>-1.59774</td>\n",
       "      <td>-1.72757</td>\n",
       "      <td>C</td>\n",
       "      <td>10</td>\n",
       "      <td>2.16330</td>\n",
       "    </tr>\n",
       "    <tr>\n",
       "      <th>3</th>\n",
       "      <td>0.72027</td>\n",
       "      <td>0.70516</td>\n",
       "      <td>0.69104</td>\n",
       "      <td>0.67807</td>\n",
       "      <td>-0.39239</td>\n",
       "      <td>-0.38015</td>\n",
       "      <td>-0.36906</td>\n",
       "      <td>D</td>\n",
       "      <td>10</td>\n",
       "      <td>-0.31700</td>\n",
       "    </tr>\n",
       "    <tr>\n",
       "      <th>4</th>\n",
       "      <td>-2.21660</td>\n",
       "      <td>-2.38328</td>\n",
       "      <td>-2.50315</td>\n",
       "      <td>-2.54693</td>\n",
       "      <td>2.63434</td>\n",
       "      <td>2.82065</td>\n",
       "      <td>3.00796</td>\n",
       "      <td>E</td>\n",
       "      <td>10</td>\n",
       "      <td>-2.31796</td>\n",
       "    </tr>\n",
       "    <tr>\n",
       "      <th>5</th>\n",
       "      <td>-0.80685</td>\n",
       "      <td>-0.88133</td>\n",
       "      <td>-0.98324</td>\n",
       "      <td>-1.12878</td>\n",
       "      <td>1.35864</td>\n",
       "      <td>1.47854</td>\n",
       "      <td>1.59853</td>\n",
       "      <td>A</td>\n",
       "      <td>10</td>\n",
       "      <td>0.64781</td>\n",
       "    </tr>\n",
       "    <tr>\n",
       "      <th>6</th>\n",
       "      <td>-0.39549</td>\n",
       "      <td>-0.30077</td>\n",
       "      <td>-0.21016</td>\n",
       "      <td>-0.12637</td>\n",
       "      <td>0.60743</td>\n",
       "      <td>0.65474</td>\n",
       "      <td>0.69851</td>\n",
       "      <td>B</td>\n",
       "      <td>10</td>\n",
       "      <td>3.04496</td>\n",
       "    </tr>\n",
       "    <tr>\n",
       "      <th>7</th>\n",
       "      <td>1.59870</td>\n",
       "      <td>1.64028</td>\n",
       "      <td>1.67922</td>\n",
       "      <td>1.71575</td>\n",
       "      <td>1.58182</td>\n",
       "      <td>1.59787</td>\n",
       "      <td>1.61437</td>\n",
       "      <td>C</td>\n",
       "      <td>10</td>\n",
       "      <td>-1.88389</td>\n",
       "    </tr>\n",
       "    <tr>\n",
       "      <th>8</th>\n",
       "      <td>0.71461</td>\n",
       "      <td>0.69830</td>\n",
       "      <td>0.68324</td>\n",
       "      <td>0.66962</td>\n",
       "      <td>0.10781</td>\n",
       "      <td>0.11378</td>\n",
       "      <td>0.11705</td>\n",
       "      <td>D</td>\n",
       "      <td>10</td>\n",
       "      <td>0.33476</td>\n",
       "    </tr>\n",
       "    <tr>\n",
       "      <th>9</th>\n",
       "      <td>0.65130</td>\n",
       "      <td>0.59862</td>\n",
       "      <td>0.55241</td>\n",
       "      <td>0.51424</td>\n",
       "      <td>2.66816</td>\n",
       "      <td>2.65499</td>\n",
       "      <td>2.64989</td>\n",
       "      <td>E</td>\n",
       "      <td>10</td>\n",
       "      <td>-1.22565</td>\n",
       "    </tr>\n",
       "  </tbody>\n",
       "</table>\n",
       "</div>"
      ],
      "text/plain": [
       "         0        1        2        3      197      198      199 system  \\\n",
       "0 -2.28861 -2.32769 -2.36418 -2.39483 -0.64168 -0.58043 -0.52136      A   \n",
       "1 -0.81772 -0.80912 -0.81015 -0.82126  0.47328  0.51531  0.55769      B   \n",
       "2 -2.80101 -2.77352 -2.74827 -2.72509 -1.48576 -1.59774 -1.72757      C   \n",
       "3  0.72027  0.70516  0.69104  0.67807 -0.39239 -0.38015 -0.36906      D   \n",
       "4 -2.21660 -2.38328 -2.50315 -2.54693  2.63434  2.82065  3.00796      E   \n",
       "5 -0.80685 -0.88133 -0.98324 -1.12878  1.35864  1.47854  1.59853      A   \n",
       "6 -0.39549 -0.30077 -0.21016 -0.12637  0.60743  0.65474  0.69851      B   \n",
       "7  1.59870  1.64028  1.67922  1.71575  1.58182  1.59787  1.61437      C   \n",
       "8  0.71461  0.69830  0.68324  0.66962  0.10781  0.11378  0.11705      D   \n",
       "9  0.65130  0.59862  0.55241  0.51424  2.66816  2.65499  2.64989      E   \n",
       "\n",
       "   distribution   future  \n",
       "0            10  1.59759  \n",
       "1            10  2.48095  \n",
       "2            10  2.16330  \n",
       "3            10 -0.31700  \n",
       "4            10 -2.31796  \n",
       "5            10  0.64781  \n",
       "6            10  3.04496  \n",
       "7            10 -1.88389  \n",
       "8            10  0.33476  \n",
       "9            10 -1.22565  "
      ]
     },
     "execution_count": 44,
     "metadata": {},
     "output_type": "execute_result"
    }
   ],
   "source": [
    "# Main data format\n",
    "data = pd.read_csv(\"data/train.csv\")\n",
    "\n",
    "print(\"shape : \", data.shape)\n",
    "data.iloc[:, [0, 1, 2, 3, 197, 198, 199, -3, -2, -1]].head(10)"
   ]
  },
  {
   "cell_type": "markdown",
   "metadata": {},
   "source": [
    "The indices on the horizontal axis represent time steps with equal intervals, can be considered as the unit of time. The values of phi for these times are listed. The \"future\" column represents the value of phi at 50 steps ahead. This is what we will try to predict in the regression problem. The \"system\" column represents one of the five mechanical systems (set of formulas) that was used to generate the time series. This will be the classification target. Each system comes with a bunch of \"hyperparameters\" which we draw randomly from a distribution. We will use different distributions which are indexed in the \"distribution\" column. This variable will be available both at training and test time, but it may have values in the test set not present in the training set. So this is not a target but not really a feature either, more like a \"hint\"."
   ]
  },
  {
   "cell_type": "code",
   "execution_count": 45,
   "metadata": {},
   "outputs": [],
   "source": [
    "y_future = data['future'].values\n",
    "y_system = data['system'].values\n",
    "x_distribution = data['distribution'].values\n",
    "x_series = data.drop(['future', 'system', 'distribution'], axis=1).values"
   ]
  },
  {
   "cell_type": "code",
   "execution_count": 46,
   "metadata": {},
   "outputs": [
    {
     "data": {
      "text/plain": [
       "array([[-2.28861, -2.32769, -2.36418, ..., -0.64168, -0.58043, -0.52136],\n",
       "       [-0.81772, -0.80912, -0.81015, ...,  0.47328,  0.51531,  0.55769],\n",
       "       [-2.80101, -2.77352, -2.74827, ..., -1.48576, -1.59774, -1.72757],\n",
       "       ...,\n",
       "       [ 0.21472,  0.2911 ,  0.37191, ...,  0.77008,  0.8217 ,  0.8726 ],\n",
       "       [ 2.97809,  2.97429,  2.97902, ...,  2.7148 ,  2.80189,  2.89112],\n",
       "       [ 2.85501,  2.83624,  2.84886, ...,  2.51329,  2.641  ,  2.76892]])"
      ]
     },
     "execution_count": 46,
     "metadata": {},
     "output_type": "execute_result"
    }
   ],
   "source": [
    "x_series"
   ]
  },
  {
   "cell_type": "code",
   "execution_count": 47,
   "metadata": {},
   "outputs": [
    {
     "data": {
      "text/plain": [
       "array([10, 10, 10, ..., 14, 14, 14])"
      ]
     },
     "execution_count": 47,
     "metadata": {},
     "output_type": "execute_result"
    }
   ],
   "source": [
    "x_distribution"
   ]
  },
  {
   "cell_type": "code",
   "execution_count": 48,
   "metadata": {},
   "outputs": [
    {
     "data": {
      "text/plain": [
       "array(['A', 'B', 'C', ..., 'C', 'D', 'E'], dtype=object)"
      ]
     },
     "execution_count": 48,
     "metadata": {},
     "output_type": "execute_result"
    }
   ],
   "source": [
    "y_system"
   ]
  },
  {
   "cell_type": "code",
   "execution_count": 49,
   "metadata": {},
   "outputs": [
    {
     "data": {
      "text/plain": [
       "array([ 1.59759,  2.48095,  2.1633 , ...,  2.39509, -1.35289,  0.67772])"
      ]
     },
     "execution_count": 49,
     "metadata": {},
     "output_type": "execute_result"
    }
   ],
   "source": [
    "y_future"
   ]
  },
  {
   "cell_type": "markdown",
   "metadata": {},
   "source": [
    "## Fitting a single time series"
   ]
  },
  {
   "cell_type": "markdown",
   "metadata": {},
   "source": [
    "Let's now pick one row and try to predict the future position of the planet by modeling the motion.\n",
    "To illustrate the challenge better, we have some additional set of files with extra information, namely the 2D-positions of the planets involved."
   ]
  },
  {
   "cell_type": "code",
   "execution_count": 50,
   "metadata": {},
   "outputs": [],
   "source": [
    "file = \"illustration\"\n",
    "data = pd.read_csv(\"data/\" + file + \"_phi.csv\")\n",
    "\n",
    "# Additional data items that are only for illustration:\n",
    "data_x = pd.read_csv(\"data/\" + file + \"_x.csv\")\n",
    "data_y = pd.read_csv(\"data/\" + file + \"_y.csv\")\n",
    "ref_x = pd.read_csv(\"data/\" + file + \"_ref_x.csv\")\n",
    "ref_y = pd.read_csv(\"data/\" + file + \"_ref_y.csv\")"
   ]
  },
  {
   "cell_type": "code",
   "execution_count": null,
   "metadata": {},
   "outputs": [],
   "source": []
  },
  {
   "cell_type": "code",
   "execution_count": 51,
   "metadata": {},
   "outputs": [],
   "source": [
    "def plot_observation(i_sample, t_min=0, t_max=200):\n",
    "    phis = data.iloc[i_sample, range(t_max)].values[t_min:t_max]\n",
    "    ax = plt.gca()\n",
    "    ax.cla()\n",
    "    ax.set_xlim([0, len(phis)])\n",
    "    ax.set_ylim([-np.pi,np.pi])\n",
    "    plt.xlabel('time')\n",
    "    plt.ylabel('$\\phi$')\n",
    "\n",
    "    plt.scatter(range(len(phis)), phis)\n",
    "    plt.plot(range(len(phis)), phis)\n",
    "    plt.show()\n"
   ]
  },
  {
   "cell_type": "code",
   "execution_count": 52,
   "metadata": {},
   "outputs": [],
   "source": [
    "def plot_orbit(i_sample, t_min=0, t_max=200):\n",
    "    x = data_x.iloc[i_sample, range(t_max)].values[t_min:t_max]\n",
    "    y = data_y.iloc[i_sample, range(t_max)].values[t_min:t_max]\n",
    "    x0 = ref_x.iloc[i_sample, range(t_max)].values[t_min:t_max]\n",
    "    y0 = ref_y.iloc[i_sample, range(t_max)].values[t_min:t_max]\n",
    "\n",
    "    ax = plt.gca()\n",
    "    ax.cla()\n",
    "    xmax = np.amax(np.abs([x, y, x0, y0])) + 20\n",
    "\n",
    "    ax.set_xlim([-xmax, xmax])\n",
    "    ax.set_ylim([-xmax, xmax])\n",
    "    plt.axes().set_aspect('equal')\n",
    "    plt.scatter(x0, y0, color='r')\n",
    "    plt.plot(x0, y0, color='r')\n",
    "    plt.scatter(x, y)\n",
    "    plt.plot(x, y)\n",
    "    for i, t in enumerate(x):\n",
    "        xl = np.array([x0[i], x[i]])\n",
    "        yl = np.array([y0[i], y[i]])\n",
    "        plot = plt.Line2D(xl, yl, color='k', linewidth=0.5, linestyle='dotted')\n",
    "        ax.add_artist(plot)\n",
    "    plt.show()\n",
    "\n"
   ]
  },
  {
   "cell_type": "code",
   "execution_count": 53,
   "metadata": {},
   "outputs": [
    {
     "data": {
      "image/png": "[encoded data removed]",
      "text/plain": [
       "<Figure size 432x288 with 1 Axes>"
      ]
     },
     "metadata": {},
     "output_type": "display_data"
    }
   ],
   "source": [
    "plot_observation(0)"
   ]
  },
  {
   "cell_type": "code",
   "execution_count": 54,
   "metadata": {},
   "outputs": [
    {
     "name": "stderr",
     "output_type": "stream",
     "text": [
      "/anaconda/envs/python-flow/lib/python3.6/site-packages/matplotlib/cbook/deprecation.py:107: MatplotlibDeprecationWarning: Adding an axes using the same arguments as a previous axes currently reuses the earlier instance.  In a future version, a new instance will always be created and returned.  Meanwhile, this warning can be suppressed, and the future behavior ensured, by passing a unique label to each axes instance.\n",
      "  warnings.warn(message, mplDeprecation, stacklevel=1)\n"
     ]
    },
    {
     "data": {
      "image/png": "[encoded data removed]",
      "text/plain": [
       "<Figure size 432x288 with 1 Axes>"
      ]
     },
     "metadata": {},
     "output_type": "display_data"
    }
   ],
   "source": [
    "plot_orbit(0)"
   ]
  },
  {
   "cell_type": "markdown",
   "metadata": {},
   "source": [
    "Notice that this is a single row of the dataset. With only the information in a single row, we can already make a prediction of the future, if we make some assumptions. For example..."
   ]
  },
  {
   "cell_type": "code",
   "execution_count": 55,
   "metadata": {},
   "outputs": [],
   "source": [
    "# Function that returns the final angle of several epicycles joined successively\n",
    "def f_phi(a, w, p, t):\n",
    "    x = np.sum(a * np.cos(w * t + p))\n",
    "    y = np.sum(a * np.sin(w * t + p))\n",
    "    return np.arctan2(y, x)"
   ]
  },
  {
   "cell_type": "code",
   "execution_count": 56,
   "metadata": {},
   "outputs": [],
   "source": [
    "# Look at the 0th row\n",
    "phis = data.iloc[0, range(200)].values"
   ]
  },
  {
   "cell_type": "code",
   "execution_count": 57,
   "metadata": {},
   "outputs": [
    {
     "data": {
      "image/png": "[encoded data removed]",
      "text/plain": [
       "<Figure size 432x288 with 1 Axes>"
      ]
     },
     "metadata": {},
     "output_type": "display_data"
    }
   ],
   "source": [
    "# Some initial guess of parameters by eye (and some knowledge of physics):\n",
    "c_initial = np.array([51., 2.*np.sqrt(1./51.), np.pi, 105., np.sqrt(1./105.), 0.])\n",
    "\n",
    "c = c_initial\n",
    "a = c[0::3]\n",
    "w = c[1::3]\n",
    "p = c[2::3]\n",
    "\n",
    "times = np.array(range(len(phis)))\n",
    "phi_pred = [f_phi(a, w, p, i) for i in range(200)]\n",
    "\n",
    "plt.scatter(times, phis)\n",
    "plt.plot(times, phi_pred)\n",
    "plt.show()"
   ]
  },
  {
   "cell_type": "markdown",
   "metadata": {},
   "source": [
    "Now, let's fit the parameters to describe the function better:"
   ]
  },
  {
   "cell_type": "code",
   "execution_count": 58,
   "metadata": {},
   "outputs": [],
   "source": [
    "def epicycle_error(c):\n",
    "    a = c[0::3]\n",
    "    w = c[1::3]\n",
    "    p = c[2::3]\n",
    "    phi_epi = [f_phi(a, w, p, i) for i in range(200)]\n",
    "    return np.sum((np.unwrap(phis - phi_epi))**2)"
   ]
  },
  {
   "cell_type": "code",
   "execution_count": 59,
   "metadata": {},
   "outputs": [
    {
     "data": {
      "image/png": "[encoded data removed]",
      "text/plain": [
       "<Figure size 432x288 with 1 Axes>"
      ]
     },
     "metadata": {},
     "output_type": "display_data"
    },
    {
     "name": "stdout",
     "output_type": "stream",
     "text": [
      "Fitted parameters :  [5.21092589e+01 2.69584554e-01 3.15340607e+00 1.07120115e+02\n",
      " 9.13450445e-02 5.12794314e-03]\n"
     ]
    }
   ],
   "source": [
    "c = np.zeros(6)\n",
    "\n",
    "use_cma = False\n",
    "if(use_cma):\n",
    "    import cma\n",
    "    es = cma.CMAEvolutionStrategy(x0=c_initial, sigma0 = 0.001)\n",
    "    es.optimize(epicycle_error)\n",
    "    es.result_pretty()\n",
    "    c = np.array(es.result.xbest).reshape(-1, 1)\n",
    "else:\n",
    "    from scipy.optimize import minimize\n",
    "    res = minimize(fun=epicycle_error, x0=c_initial,\n",
    "                   method='Nelder-Mead', tol=1e-10,\n",
    "                   options={'xtol': 0.001, 'maxiter': 100000})\n",
    "    c = res.x\n",
    "\n",
    "a = c[0::3]\n",
    "w = c[1::3]\n",
    "p = c[2::3]\n",
    "\n",
    "times = np.array(range(len(phis)))\n",
    "phi_pred = [f_phi(a, w, p, i) for i in range(251)]\n",
    "\n",
    "plt.plot(range(251), phi_pred)\n",
    "plt.scatter(times, phis)\n",
    "plt.show()\n",
    "\n",
    "print(\"Fitted parameters : \", c)"
   ]
  },
  {
   "cell_type": "markdown",
   "metadata": {},
   "source": [
    "The above is already what Copernican model would correctly describe. Let's now insist that the Mars is rotating in a bunch of epicycles around the earth, which are sucessively smaller. In order to do that, add more epicycles, and L1 regularization to kill those that are not needed. Below is a time-expensive computation, not recommended for the analysis of the full dataset.\n",
    "Since the functions involved are differentiable, it is perhaps possible to implement a faster method for optimization, e.g. gradient descent. An example is in the example: submissions/tf_ptolemy/"
   ]
  },
  {
   "cell_type": "code",
   "execution_count": 60,
   "metadata": {},
   "outputs": [],
   "source": [
    "def epicycle_error_l1reg(c):\n",
    "    a = c[0::3]\n",
    "    w = c[1::3]\n",
    "    p = c[2::3]\n",
    "    phi_epi = [f_phi(a, w, p, i) for i in range(200)]\n",
    "    return np.sum((np.unwrap(phis - phi_epi))**2) + 0.1 * np.sum(np.abs(a))"
   ]
  },
  {
   "cell_type": "code",
   "execution_count": 61,
   "metadata": {},
   "outputs": [
    {
     "data": {
      "image/png": "[encoded data removed]",
      "text/plain": [
       "<Figure size 432x288 with 1 Axes>"
      ]
     },
     "metadata": {},
     "output_type": "display_data"
    },
    {
     "name": "stdout",
     "output_type": "stream",
     "text": [
      "Fitted parameters :  [-1.92887954e-01  3.70954366e-02  1.39746208e-02  1.66507449e+01\n",
      "  8.83398752e-02 -9.22094869e-03  1.44290912e+00  4.78525840e-01\n",
      "  4.72772710e-03  8.45257314e+00  9.81775574e-02  4.72057801e-03\n",
      " -2.27068345e+00  4.44083059e-01  1.76264295e-03]\n"
     ]
    }
   ],
   "source": [
    "#c_overfit = np.tile(c_initial, 3)\n",
    "c_overfit = np.array([51., 0.3, 0., \n",
    "                      10., 0.1, 0.,\n",
    "                      10., 0.5, 0.,\n",
    "                      5., 0.1, 0.,\n",
    "                      5., 0.5, 0.,\n",
    "                     ])\n",
    "\n",
    "c = np.zeros(18)\n",
    "\n",
    "use_cma = False\n",
    "if(use_cma):\n",
    "    import cma\n",
    "    es = cma.CMAEvolutionStrategy(x0=c_overfit, sigma0 = 0.001)\n",
    "    es.optimize(epicycle_error)\n",
    "    es.result_pretty()\n",
    "    c = np.array(es.result.xbest).reshape(-1, 1)\n",
    "else:\n",
    "    from scipy.optimize import minimize\n",
    "    res = minimize(fun=epicycle_error_l1reg, x0=c_overfit,\n",
    "                   method='Nelder-Mead', tol=1e-10,\n",
    "                   options={'xtol': 0.001, 'maxiter': 10000})\n",
    "    c = res.x\n",
    "\n",
    "\n",
    "a = c[0::3]\n",
    "w = c[1::3]\n",
    "p = c[2::3]\n",
    "\n",
    "times = np.array(range(len(phis)))\n",
    "phi_pred = [f_phi(a, w, p, i) for i in range(251)]\n",
    "\n",
    "plt.scatter(times, phis)\n",
    "plt.plot(range(251), phi_pred)\n",
    "plt.show()\n",
    "\n",
    "print(\"Fitted parameters : \", c)"
   ]
  },
  {
   "cell_type": "markdown",
   "metadata": {},
   "source": [
    "Let's see whether LSTM can predict that far ahead... "
   ]
  },
  {
   "cell_type": "code",
   "execution_count": 62,
   "metadata": {},
   "outputs": [],
   "source": [
    "from keras.models import Sequential\n",
    "from keras.models import Model\n",
    "from keras.layers import Input, Dense\n",
    "from keras.layers import LSTM\n",
    "from sklearn.preprocessing import MinMaxScaler\n",
    "from sklearn.metrics import mean_squared_error"
   ]
  },
  {
   "cell_type": "code",
   "execution_count": 63,
   "metadata": {},
   "outputs": [
    {
     "name": "stdout",
     "output_type": "stream",
     "text": [
      "Epoch 1/8\n",
      " - 4s - loss: 0.2824\n",
      "Epoch 2/8\n",
      " - 3s - loss: 0.1742\n",
      "Epoch 3/8\n",
      " - 3s - loss: 0.1123\n",
      "Epoch 4/8\n",
      " - 3s - loss: 0.0788\n",
      "Epoch 5/8\n",
      " - 3s - loss: 0.0574\n",
      "Epoch 6/8\n",
      " - 3s - loss: 0.0613\n",
      "Epoch 7/8\n",
      " - 3s - loss: 0.0574\n",
      "Epoch 8/8\n",
      " - 3s - loss: 0.0462\n"
     ]
    },
    {
     "data": {
      "text/plain": [
       "<keras.callbacks.History at 0x124f66c18>"
      ]
     },
     "execution_count": 63,
     "metadata": {},
     "output_type": "execute_result"
    }
   ],
   "source": [
    "n_train = 100\n",
    "n_time = 50\n",
    "phi_short = np.ndarray(shape=(n_train, n_time, 1))\n",
    "\n",
    "for i in range(0, n_train):\n",
    "    phi_short[i, :, 0] = phis[i:i + n_time] / np.pi\n",
    "\n",
    "target =  phis[n_time + 50:] / np.pi\n",
    "inputs = Input(shape=(n_time, 1), dtype='float', name='main_input')\n",
    "layer = LSTM(12)(inputs)\n",
    "predictions = Dense(1)(layer)\n",
    "model = Model(inputs=inputs, outputs=predictions)\n",
    "model.compile(optimizer='adam',\n",
    "              loss='mean_squared_error')\n",
    "\n",
    "model.fit(phi_short, target, epochs=8, batch_size=1, verbose=2)"
   ]
  },
  {
   "cell_type": "code",
   "execution_count": 64,
   "metadata": {},
   "outputs": [
    {
     "data": {
      "image/png": "[encoded data removed]",
      "text/plain": [
       "<Figure size 432x288 with 1 Axes>"
      ]
     },
     "metadata": {},
     "output_type": "display_data"
    }
   ],
   "source": [
    "x_pred = np.ndarray(shape=(250, n_time, 1))\n",
    "for i in range(0, 150):\n",
    "    x_pred[i, :, 0] = phis[i:i + n_time] / np.pi\n",
    "\n",
    "for i in range(150, 250):\n",
    "    x_pred[i, :, 0] = model.predict(x_pred[i - n_time - 50].reshape(1, 50, 1))[0]\n",
    "\n",
    "plt.scatter(times, phis)\n",
    "plt.plot(range(250), x_pred[:, 0, 0] * np.pi)\n",
    "plt.show()"
   ]
  },
  {
   "cell_type": "markdown",
   "metadata": {},
   "source": [
    "# The challenge"
   ]
  },
  {
   "cell_type": "markdown",
   "metadata": {},
   "source": [
    "Notice that this was a single row in a dataset.\n",
    "The challenge is to do this analysis for each row separately. Each row in the dataset is another physics system with unknown dynamics, and randomized initial state, for which the participants are to determine the relevant model first and re-fit for row-specific parameters.\n",
    "\n"
   ]
  },
  {
   "cell_type": "markdown",
   "metadata": {},
   "source": [
    "The classification task substitutes for the formula finding part of the theoretical study, except instead of an infinite set of possibilities, we simplify the problem into a limited set of formulas."
   ]
  },
  {
   "cell_type": "markdown",
   "metadata": {},
   "source": [
    "The dataset now consists of alternative physics/mechanics scenarios, in which some formulas/dynamics are made up. We put ourselves in the shoes of Ptolemy and try to model the angular motion of the observed objects without knowing what causes such behavior."
   ]
  },
  {
   "cell_type": "markdown",
   "metadata": {},
   "source": [
    "The participant can follow many different strategies. Some examples are provided, which are explained below, but any solution that returns the right classification and regression results is fine."
   ]
  },
  {
   "cell_type": "code",
   "execution_count": null,
   "metadata": {},
   "outputs": [],
   "source": []
  },
  {
   "cell_type": "code",
   "execution_count": null,
   "metadata": {},
   "outputs": [],
   "source": []
  },
  {
   "cell_type": "markdown",
   "metadata": {},
   "source": [
    "## Using feature extractor to simplify data "
   ]
  },
  {
   "cell_type": "markdown",
   "metadata": {},
   "source": [
    "The above process could be performed either inside the predict() function, or, it can be performed in a transform() function in feature_extractor such that the data is now represented more efficiently and further regression methods can be applied to gain better accuracy.\n",
    "In the available examples, most of the stuff happens in the feature_extractor_reg, and predict is only the identity function."
   ]
  },
  {
   "cell_type": "code",
   "execution_count": null,
   "metadata": {},
   "outputs": [],
   "source": []
  },
  {
   "cell_type": "code",
   "execution_count": null,
   "metadata": {},
   "outputs": [],
   "source": []
  },
  {
   "cell_type": "code",
   "execution_count": null,
   "metadata": {
    "collapsed": true
   },
   "outputs": [],
   "source": []
  },
  {
   "cell_type": "markdown",
   "metadata": {},
   "source": [
    "## Classification problem and score"
   ]
  },
  {
   "cell_type": "markdown",
   "metadata": {},
   "source": [
    "Although so far  the classification part of the problem has been described as a helpful side task, it is essential to the main motivation of this challenge: Invent theoretical models in science.\n",
    "\n",
    "Ideally, we would like to find the best functions that describe the data. In this challenge, we simplified this effort by assuming that the first step in generating the formula is to be able to classify a dataset into a set of given formulas. \n",
    "\n",
    "As the formula space is extended, the problem gets similar to theory generation.\n"
   ]
  },
  {
   "cell_type": "code",
   "execution_count": null,
   "metadata": {
    "collapsed": true
   },
   "outputs": [],
   "source": []
  },
  {
   "cell_type": "code",
   "execution_count": null,
   "metadata": {
    "collapsed": true
   },
   "outputs": [],
   "source": []
  },
  {
   "cell_type": "code",
   "execution_count": null,
   "metadata": {
    "collapsed": true
   },
   "outputs": [],
   "source": []
  },
  {
   "cell_type": "code",
   "execution_count": null,
   "metadata": {
    "collapsed": true
   },
   "outputs": [],
   "source": []
  },
  {
   "cell_type": "code",
   "execution_count": null,
   "metadata": {
    "collapsed": true
   },
   "outputs": [],
   "source": []
  },
  {
   "cell_type": "code",
   "execution_count": null,
   "metadata": {
    "collapsed": true
   },
   "outputs": [],
   "source": []
  },
  {
   "cell_type": "code",
   "execution_count": null,
   "metadata": {
    "collapsed": true
   },
   "outputs": [],
   "source": []
  },
  {
   "cell_type": "code",
   "execution_count": null,
   "metadata": {
    "collapsed": true
   },
   "outputs": [],
   "source": []
  },
  {
   "cell_type": "code",
   "execution_count": null,
   "metadata": {
    "collapsed": true
   },
   "outputs": [],
   "source": []
  },
  {
   "cell_type": "markdown",
   "metadata": {},
   "source": [
    "## starting_kit : Simple ML model"
   ]
  },
  {
   "cell_type": "markdown",
   "metadata": {},
   "source": [
    "The starting kit is basically a template for all the functions to be implemented. It attempts to solve the classification and regression problems without any knowledge of the context and the discussion above. You can use this example to start implementing your own approach from complete scratch."
   ]
  },
  {
   "cell_type": "code",
   "execution_count": null,
   "metadata": {
    "collapsed": true
   },
   "outputs": [],
   "source": []
  },
  {
   "cell_type": "code",
   "execution_count": null,
   "metadata": {
    "collapsed": true
   },
   "outputs": [],
   "source": []
  },
  {
   "cell_type": "code",
   "execution_count": null,
   "metadata": {
    "collapsed": true
   },
   "outputs": [],
   "source": []
  },
  {
   "cell_type": "code",
   "execution_count": null,
   "metadata": {
    "collapsed": true
   },
   "outputs": [],
   "source": []
  },
  {
   "cell_type": "markdown",
   "metadata": {},
   "source": [
    "## Ptolemian model"
   ]
  },
  {
   "cell_type": "markdown",
   "metadata": {},
   "source": [
    "submissions/ptolemy is an example that incorporates the above formula modeling into a proper submission. The actual fitting happens in the feature_extractor_reg, from which the predicted value is passed on to the regressor directly. "
   ]
  },
  {
   "cell_type": "code",
   "execution_count": null,
   "metadata": {
    "collapsed": true
   },
   "outputs": [],
   "source": []
  },
  {
   "cell_type": "code",
   "execution_count": null,
   "metadata": {
    "collapsed": true
   },
   "outputs": [],
   "source": []
  },
  {
   "cell_type": "markdown",
   "metadata": {},
   "source": [
    "### Tensorflow version for advanced optimization"
   ]
  },
  {
   "cell_type": "markdown",
   "metadata": {},
   "source": [
    "submissions/tf_ptolemy is the same approach as above, but implemented with tensorflow eager execution. The participants may work on an optimization strategy using gradient calculations."
   ]
  },
  {
   "cell_type": "code",
   "execution_count": null,
   "metadata": {
    "collapsed": true
   },
   "outputs": [],
   "source": [
    "from submissions.tf_ptolemy.feature_extractor_reg import *"
   ]
  },
  {
   "cell_type": "code",
   "execution_count": null,
   "metadata": {
    "collapsed": true
   },
   "outputs": [],
   "source": [
    "n_epicycle = 100\n",
    "model = Ptolemy(n_epicycle)\n",
    "model.assign_parameters(\n",
    "                pars=np.array([1., 0.08284271, 3.14159265] * n_epicycle))\n",
    "\n",
    "times = np.arange(0., len(phis))\n",
    "epochs = range(1000)\n",
    "for epoch in epochs:\n",
    "    model.train(times, phis, rate=0.01)\n",
    "\n",
    "c = model.c.numpy()\n",
    "a = c[0::3]\n",
    "w = c[1::3]\n",
    "p = c[2::3]\n",
    "\n",
    "phi_pred = np.array(model(np.arange(0., len(phis) + 50))).reshape(-1)\n",
    "\n",
    "plt.scatter(times, phis)\n",
    "plt.plot(range(250), phi_pred)\n",
    "plt.show()"
   ]
  },
  {
   "cell_type": "code",
   "execution_count": null,
   "metadata": {
    "collapsed": true
   },
   "outputs": [],
   "source": []
  },
  {
   "cell_type": "markdown",
   "metadata": {},
   "source": [
    "## Copernican model"
   ]
  },
  {
   "cell_type": "markdown",
   "metadata": {},
   "source": [
    "submissions/tf_copernicus is the same as tf_ptolemy, except it is restricted to only 2 circles and without regularization, it tries to fit the observed motion of Mars from Earth analytically. It only succeeds for system A."
   ]
  },
  {
   "cell_type": "code",
   "execution_count": null,
   "metadata": {
    "collapsed": true
   },
   "outputs": [],
   "source": []
  },
  {
   "cell_type": "code",
   "execution_count": null,
   "metadata": {
    "collapsed": true
   },
   "outputs": [],
   "source": []
  },
  {
   "cell_type": "markdown",
   "metadata": {},
   "source": [
    "## Newtonian model"
   ]
  },
  {
   "cell_type": "markdown",
   "metadata": {},
   "source": [
    "submissions/tf_newton is an actual pysics model that simulates the motion in discrete time steps, for a given force formulation."
   ]
  },
  {
   "cell_type": "code",
   "execution_count": null,
   "metadata": {
    "collapsed": true
   },
   "outputs": [],
   "source": []
  },
  {
   "cell_type": "code",
   "execution_count": null,
   "metadata": {
    "collapsed": true
   },
   "outputs": [],
   "source": []
  },
  {
   "cell_type": "code",
   "execution_count": null,
   "metadata": {
    "collapsed": true
   },
   "outputs": [],
   "source": []
  },
  {
   "cell_type": "code",
   "execution_count": null,
   "metadata": {
    "collapsed": true
   },
   "outputs": [],
   "source": []
  },
  {
   "cell_type": "code",
   "execution_count": null,
   "metadata": {
    "collapsed": true
   },
   "outputs": [],
   "source": []
  },
  {
   "cell_type": "markdown",
   "metadata": {},
   "source": [
    "## LSTM model"
   ]
  },
  {
   "cell_type": "code",
   "execution_count": null,
   "metadata": {
    "collapsed": true
   },
   "outputs": [],
   "source": []
  },
  {
   "cell_type": "code",
   "execution_count": null,
   "metadata": {
    "collapsed": true
   },
   "outputs": [],
   "source": []
  },
  {
   "cell_type": "code",
   "execution_count": null,
   "metadata": {
    "collapsed": true
   },
   "outputs": [],
   "source": []
  },
  {
   "cell_type": "code",
   "execution_count": null,
   "metadata": {
    "collapsed": true
   },
   "outputs": [],
   "source": []
  },
  {
   "cell_type": "code",
   "execution_count": null,
   "metadata": {
    "collapsed": true
   },
   "outputs": [],
   "source": []
  },
  {
   "cell_type": "code",
   "execution_count": null,
   "metadata": {
    "collapsed": true
   },
   "outputs": [],
   "source": []
  },
  {
   "cell_type": "code",
   "execution_count": null,
   "metadata": {
    "collapsed": true
   },
   "outputs": [],
   "source": []
  },
  {
   "cell_type": "code",
   "execution_count": null,
   "metadata": {
    "collapsed": true
   },
   "outputs": [],
   "source": []
  },
  {
   "cell_type": "markdown",
   "metadata": {},
   "source": [
    "## Scoring"
   ]
  },
  {
   "cell_type": "markdown",
   "metadata": {},
   "source": [
    "Although there are two scores involved, we want to set the regression as the main score and treat the classification problem as a side product of the optimization for regression. We want, however, the participants to at least submit a non-trivial solution for classification therefore we assign a small but non-zero proportion for the combined score. For the regression, RMS-error is used, which is wrapped around pi and -pi."
   ]
  },
  {
   "cell_type": "markdown",
   "metadata": {},
   "source": [
    "## Local testing/exploration\n",
    "\n",
    "It is <b><span style=\"color:red\">important that you test your submission files before submitting them</span></b>. For this we provide a unit test. Note that the test runs on your files in [`submissions/starting_kit`](/tree/submissions/starting_kit), not on the classes defined in the cells of this notebook.\n",
    "\n",
    "Check list\n",
    "\n",
    "- Make sure you have installed `ramp-workflow` locally (see [above](#Installation-of-ramp-workflow))\n",
    "- Make sure that the python files `object_detector.py` is in the  `submissions/your_submission` folder, and the train and test data are in [`data`](/tree/data)\n",
    "- If you haven't yet, download the images by executing \n",
    "  ```\n",
    "  python download_data.py\n",
    "  ```\n",
    "\n",
    "Finally, make sure the local processing goes through by running the\n",
    "\n",
    "```\n",
    "ramp_test_submission --submission your_submission\n",
    "```\n",
    "\n",
    "If you want to quickly test the that there are no obvious code errors, use the `--quick-test` keyword to only use data from the first 30 images. \n",
    "\n",
    "```\n",
    "ramp_test_submission --submission your_submission --quick-test\n",
    "```"
   ]
  },
  {
   "cell_type": "code",
   "execution_count": 22,
   "metadata": {},
   "outputs": [
    {
     "name": "stdout",
     "output_type": "stream",
     "text": [
      "\u001b[38;5;178m\u001b[1mTesting Mechanics classification\u001b[0m\n",
      "\u001b[38;5;178m\u001b[1mReading train and test files from ./data ...\u001b[0m\n",
      "\u001b[38;5;178m\u001b[1mReading cv ...\u001b[0m\n",
      "\u001b[38;5;178m\u001b[1mTraining ./submissions/starting_kit ...\u001b[0m\n",
      "\u001b[38;5;178m\u001b[1mCV fold 0\u001b[0m\n",
      "/anaconda/envs/python-flow/lib/python3.6/site-packages/sklearn/decomposition/pca.py:423: RuntimeWarning: invalid value encountered in true_divide\n",
      "  explained_variance_ = (S ** 2) / (n_samples - 1)\n",
      "/anaconda/envs/python-flow/lib/python3.6/site-packages/sklearn/decomposition/pca.py:423: RuntimeWarning: invalid value encountered in true_divide\n",
      "  explained_variance_ = (S ** 2) / (n_samples - 1)\n",
      "/anaconda/envs/python-flow/lib/python3.6/site-packages/sklearn/decomposition/pca.py:423: RuntimeWarning: invalid value encountered in true_divide\n",
      "  explained_variance_ = (S ** 2) / (n_samples - 1)\n",
      "/anaconda/envs/python-flow/lib/python3.6/site-packages/sklearn/decomposition/pca.py:423: RuntimeWarning: invalid value encountered in true_divide\n",
      "  explained_variance_ = (S ** 2) / (n_samples - 1)\n",
      "\t\u001b[38;5;178m\u001b[1mscore    err   rmse  combined\u001b[0m\n",
      "\t\u001b[38;5;10m\u001b[1mtrain\u001b[0m  \u001b[38;5;10m\u001b[1m\u001b[38;5;150m\u001b[38;5;150m0.000\u001b[0m\u001b[0m\u001b[0m  \u001b[38;5;10m\u001b[1m\u001b[38;5;150m\u001b[38;5;150m0.000\u001b[0m\u001b[0m\u001b[0m     \u001b[38;5;10m\u001b[1m\u001b[38;5;150m\u001b[38;5;150m0.000\u001b[0m\u001b[0m\u001b[0m\n",
      "\t\u001b[38;5;12m\u001b[1mvalid\u001b[0m  \u001b[38;5;12m\u001b[1m0.286\u001b[0m  \u001b[38;5;105m0.495\u001b[0m     \u001b[38;5;105m0.474\u001b[0m\n",
      "\t\u001b[38;5;1m\u001b[1mtest\u001b[0m   \u001b[38;5;1m\u001b[1m0.182\u001b[0m  \u001b[38;5;218m0.395\u001b[0m     \u001b[38;5;218m0.374\u001b[0m\n",
      "\u001b[38;5;178m\u001b[1m----------------------------\u001b[0m\n",
      "\u001b[38;5;178m\u001b[1mMean CV scores\u001b[0m\n",
      "\u001b[38;5;178m\u001b[1m----------------------------\u001b[0m\n",
      "\t\u001b[38;5;178m\u001b[1mscore          err         rmse     combined\u001b[0m\n",
      "\t\u001b[38;5;10m\u001b[1mtrain\u001b[0m    \u001b[38;5;10m\u001b[1m\u001b[38;5;150m\u001b[38;5;150m\u001b[38;5;150m\u001b[38;5;150m\u001b[38;5;150m0.0\u001b[0m\u001b[0m\u001b[0m\u001b[0m\u001b[0m\u001b[0m \u001b[38;5;150m\u001b[38;5;150m\u001b[38;5;150m±\u001b[0m\u001b[0m\u001b[0m \u001b[38;5;10m\u001b[1m\u001b[38;5;150m\u001b[38;5;150m\u001b[38;5;150m\u001b[38;5;150m\u001b[38;5;150m0.0\u001b[0m\u001b[0m\u001b[0m\u001b[0m\u001b[0m\u001b[0m    \u001b[38;5;10m\u001b[1m\u001b[38;5;150m\u001b[38;5;150m\u001b[38;5;150m\u001b[38;5;150m\u001b[38;5;150m0.0\u001b[0m\u001b[0m\u001b[0m\u001b[0m\u001b[0m\u001b[0m \u001b[38;5;150m\u001b[38;5;150m\u001b[38;5;150m±\u001b[0m\u001b[0m\u001b[0m \u001b[38;5;10m\u001b[1m\u001b[38;5;150m\u001b[38;5;150m\u001b[38;5;150m\u001b[38;5;150m\u001b[38;5;150m0.0\u001b[0m\u001b[0m\u001b[0m\u001b[0m\u001b[0m\u001b[0m    \u001b[38;5;10m\u001b[1m\u001b[38;5;150m\u001b[38;5;150m\u001b[38;5;150m\u001b[38;5;150m\u001b[38;5;150m0.0\u001b[0m\u001b[0m\u001b[0m\u001b[0m\u001b[0m\u001b[0m \u001b[38;5;150m\u001b[38;5;150m\u001b[38;5;150m±\u001b[0m\u001b[0m\u001b[0m \u001b[38;5;10m\u001b[1m\u001b[38;5;150m\u001b[38;5;150m\u001b[38;5;150m\u001b[38;5;150m\u001b[38;5;150m0.0\u001b[0m\u001b[0m\u001b[0m\u001b[0m\u001b[0m\u001b[0m\n",
      "\t\u001b[38;5;12m\u001b[1mvalid\u001b[0m  \u001b[38;5;12m\u001b[1m0.286\u001b[0m \u001b[38;5;105m\u001b[38;5;105m\u001b[38;5;105m±\u001b[0m\u001b[0m\u001b[0m \u001b[38;5;105m\u001b[38;5;105m\u001b[38;5;105m0.0\u001b[0m\u001b[0m\u001b[0m  \u001b[38;5;105m0.495\u001b[0m \u001b[38;5;105m\u001b[38;5;105m\u001b[38;5;105m±\u001b[0m\u001b[0m\u001b[0m \u001b[38;5;105m\u001b[38;5;105m\u001b[38;5;105m0.0\u001b[0m\u001b[0m\u001b[0m  \u001b[38;5;105m0.474\u001b[0m \u001b[38;5;105m\u001b[38;5;105m\u001b[38;5;105m±\u001b[0m\u001b[0m\u001b[0m \u001b[38;5;105m\u001b[38;5;105m\u001b[38;5;105m0.0\u001b[0m\u001b[0m\u001b[0m\n",
      "\t\u001b[38;5;1m\u001b[1mtest\u001b[0m   \u001b[38;5;1m\u001b[1m0.182\u001b[0m \u001b[38;5;218m\u001b[38;5;218m\u001b[38;5;218m±\u001b[0m\u001b[0m\u001b[0m \u001b[38;5;218m\u001b[38;5;218m\u001b[38;5;218m0.0\u001b[0m\u001b[0m\u001b[0m  \u001b[38;5;218m0.395\u001b[0m \u001b[38;5;218m\u001b[38;5;218m\u001b[38;5;218m±\u001b[0m\u001b[0m\u001b[0m \u001b[38;5;218m\u001b[38;5;218m\u001b[38;5;218m0.0\u001b[0m\u001b[0m\u001b[0m  \u001b[38;5;218m0.374\u001b[0m \u001b[38;5;218m\u001b[38;5;218m\u001b[38;5;218m±\u001b[0m\u001b[0m\u001b[0m \u001b[38;5;218m\u001b[38;5;218m\u001b[38;5;218m0.0\u001b[0m\u001b[0m\u001b[0m\n",
      "\u001b[38;5;178m\u001b[1m----------------------------\u001b[0m\n",
      "\u001b[38;5;178m\u001b[1mBagged scores\u001b[0m\n",
      "\u001b[38;5;178m\u001b[1m----------------------------\u001b[0m\n",
      "\t\u001b[38;5;178m\u001b[1mscore    err\u001b[0m\n",
      "\t\u001b[38;5;12m\u001b[1mvalid\u001b[0m  \u001b[38;5;12m\u001b[1m0.286\u001b[0m\n",
      "\t\u001b[38;5;1m\u001b[1mtest\u001b[0m   \u001b[38;5;1m\u001b[1m0.182\u001b[0m\n"
     ]
    }
   ],
   "source": [
    "!ramp_test_submission --quick-test"
   ]
  },
  {
   "cell_type": "markdown",
   "metadata": {},
   "source": [
    "If you get to see the train and test scores, and no errors, then you can submit your model to the ramp.studio."
   ]
  },
  {
   "cell_type": "markdown",
   "metadata": {},
   "source": [
    "## Submitting to [ramp.studio](http://ramp.studio)\n",
    "\n",
    "Once you found a good model, you can submit them to [ramp.studio](https://www.ramp.studio). First, if it is your first time using RAMP, [sign up](https://www.ramp.studio/sign_up), otherwise [log in](https://www.ramp.studio/login). Then find an open event on the particular problem, the event [mars_craters](https://www.ramp.studio/events/mars_craters_cifar) for this RAMP. Sign up for the event. Both signups are controled by RAMP administrators, so there **can be a delay between asking for signup and being able to submit**.\n",
    "\n",
    "Once your signup request is accepted, you can go to your [sandbox](https://www.ramp.studio/events/mechanics/sandbox) and copy-paste (or upload) your files. The submission is trained and tested on our backend in the same way as `ramp_test_submission` does it locally. While your submission is waiting in the queue and being trained, you can find it in the \"New submissions (pending training)\" table in [my submissions](https://www.ramp.studio/events/mechanics/my_submissions). Once it is trained, you get a mail, and your submission shows up on the [public leaderboard](https://www.ramp.studio/events/mechanics/leaderboard). \n",
    "If there is an error (despite having tested your submission locally with `ramp_test_submission`), it will show up in the \"Failed submissions\" table in [my submissions](https://www.ramp.studio/events/mechanics/my_submissions). You can click on the error to see part of the trace.\n",
    "\n",
    "After submission, do not forget to give credits to the previous submissions you reused or integrated into your submission.\n",
    "\n",
    "The data set we use at the backend is usually different from what you find in the starting kit, so the score may be different.\n",
    "\n",
    "The usual way to work with RAMP is to explore solutions, add feature transformations, select models, perhaps do some AutoML/hyperopt, etc., _locally_, and checking them with `ramp_test_submission`. The script prints scores for each cross-validation fold\n",
    "```\n",
    "        score    err   rmse  combined\n",
    "        train  0.000  1.174     1.057\n",
    "        valid  0.143  1.107     1.010\n",
    "        test   0.091  1.132     1.028\n",
    "```\n",
    "and the mean cross-validation score at the end \n",
    "```\n",
    "----------------------------\n",
    "Mean CV scores\n",
    "----------------------------\n",
    "        score          err         rmse     combined\n",
    "        train    0.0 ± 0.0  1.174 ± 0.0  1.057 ± 0.0\n",
    "        valid  0.143 ± 0.0  1.107 ± 0.0   1.01 ± 0.0\n",
    "        test   0.091 ± 0.0  1.132 ± 0.0  1.028 ± 0.0\n",
    "```\n",
    "\n",
    "The official score in this RAMP (the first score column after \"historical contributivity\" on the [leaderboard](https://www.ramp.studio/events/mechanics/leaderboard)) is the mean average precision AP, that is the area under the precision/recall curve. When the score is good enough, you can submit it at the RAMP."
   ]
  },
  {
   "cell_type": "markdown",
   "metadata": {},
   "source": [
    "## More information\n",
    "\n",
    "You can find more information in the [README](https://github.com/paris-saclay-cds/ramp-workflow/blob/master/README.md) of the [ramp-workflow library](https://github.com/paris-saclay-cds/ramp-workflow)."
   ]
  },
  {
   "cell_type": "markdown",
   "metadata": {},
   "source": [
    "## Contact\n",
    "\n",
    "Don't hesitate to [contact us](mailto:admin@ramp.studio?subject=mechanics ramp)."
   ]
  },
  {
   "cell_type": "markdown",
   "metadata": {},
   "source": [
    "# Appendix: Visualize some example systems"
   ]
  },
  {
   "cell_type": "code",
   "execution_count": 34,
   "metadata": {},
   "outputs": [],
   "source": [
    "file = \"illustration\"\n",
    "data = pd.read_csv(\"data/\" + file + \"_phi.csv\")\n",
    "\n",
    "# Additional data items that are only for illustration:\n",
    "data_x = pd.read_csv(\"data/\" + file + \"_x.csv\")\n",
    "data_y = pd.read_csv(\"data/\" + file + \"_y.csv\")\n",
    "ref_x = pd.read_csv(\"data/\" + file + \"_ref_x.csv\")\n",
    "ref_y = pd.read_csv(\"data/\" + file + \"_ref_y.csv\")"
   ]
  },
  {
   "cell_type": "code",
   "execution_count": 35,
   "metadata": {},
   "outputs": [],
   "source": [
    "def plot_data(i, t_min=0, t_max=200):\n",
    "    plot_orbit(i, t_min, t_max)\n",
    "    plot_observation(i, t_min, t_max)"
   ]
  },
  {
   "cell_type": "code",
   "execution_count": null,
   "metadata": {
    "scrolled": false
   },
   "outputs": [],
   "source": [
    "for i in range(len(data.index)):\n",
    "    plot_data(i, 0, 200)"
   ]
  },
  {
   "cell_type": "code",
   "execution_count": null,
   "metadata": {
    "collapsed": true
   },
   "outputs": [],
   "source": []
  },
  {
   "cell_type": "code",
   "execution_count": null,
   "metadata": {
    "collapsed": true
   },
   "outputs": [],
   "source": []
  },
  {
   "cell_type": "code",
   "execution_count": null,
   "metadata": {
    "collapsed": true
   },
   "outputs": [],
   "source": []
  },
  {
   "cell_type": "code",
   "execution_count": null,
   "metadata": {
    "collapsed": true
   },
   "outputs": [],
   "source": []
  }
 ],
 "metadata": {
  "kernelspec": {
   "display_name": "Python 3",
   "language": "python",
   "name": "python3"
  },
  "language_info": {
   "codemirror_mode": {
    "name": "ipython",
    "version": 3
   },
   "file_extension": ".py",
   "mimetype": "text/x-python",
   "name": "python",
   "nbconvert_exporter": "python",
   "pygments_lexer": "ipython3",
   "version": "3.6.5"
  }
 },
 "nbformat": 4,
 "nbformat_minor": 2
}
